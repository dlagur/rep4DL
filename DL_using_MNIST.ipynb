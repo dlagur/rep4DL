{
  "nbformat": 4,
  "nbformat_minor": 0,
  "metadata": {
    "colab": {
      "name": "DL_using_MNIST.ipynb",
      "provenance": [],
      "collapsed_sections": [],
      "authorship_tag": "ABX9TyP15TMcpIYTFpadz6GKzBV9",
      "include_colab_link": true
    },
    "kernelspec": {
      "name": "python3",
      "display_name": "Python 3"
    },
    "language_info": {
      "name": "python"
    }
  },
  "cells": [
    {
      "cell_type": "markdown",
      "metadata": {
        "id": "view-in-github",
        "colab_type": "text"
      },
      "source": [
        "<a href=\"https://colab.research.google.com/github/dlagur/rep4DL/blob/main/DL_using_MNIST.ipynb\" target=\"_parent\"><img src=\"https://colab.research.google.com/assets/colab-badge.svg\" alt=\"Open In Colab\"/></a>"
      ]
    },
    {
      "cell_type": "code",
      "execution_count": 1,
      "metadata": {
        "id": "y1lAHcs2zC4v"
      },
      "outputs": [],
      "source": [
        "import numpy as np\n",
        "import keras\n",
        "from keras.datasets import mnist\n",
        "from keras.utils import np_utils"
      ]
    },
    {
      "cell_type": "code",
      "source": [
        "from keras.models import Sequential\n",
        "from keras.layers import Flatten, Dense, Dropout\n",
        "from keras.layers import Activation\n",
        "from keras import backend as K"
      ],
      "metadata": {
        "id": "6dUXTAq1zNM2"
      },
      "execution_count": 2,
      "outputs": []
    },
    {
      "cell_type": "code",
      "source": [
        "from keras.datasets import mnist\n",
        "(x_train, y_train), (x_test, y_test) = mnist.load_data()"
      ],
      "metadata": {
        "colab": {
          "base_uri": "https://localhost:8080/"
        },
        "id": "R1t3e7hNztpR",
        "outputId": "a5434864-1aef-4879-ca70-64926bcc67ab"
      },
      "execution_count": 3,
      "outputs": [
        {
          "output_type": "stream",
          "name": "stdout",
          "text": [
            "Downloading data from https://storage.googleapis.com/tensorflow/tf-keras-datasets/mnist.npz\n",
            "11493376/11490434 [==============================] - 0s 0us/step\n",
            "11501568/11490434 [==============================] - 0s 0us/step\n"
          ]
        }
      ]
    },
    {
      "cell_type": "code",
      "source": [
        "type(x_train[0]), x_train.shape, y_train.shape"
      ],
      "metadata": {
        "colab": {
          "base_uri": "https://localhost:8080/"
        },
        "id": "gVWWoeAp0UN-",
        "outputId": "b7b92ad2-8677-4db8-9826-0973c8dcffbb"
      },
      "execution_count": 4,
      "outputs": [
        {
          "output_type": "execute_result",
          "data": {
            "text/plain": [
              "(numpy.ndarray, (60000, 28, 28), (60000,))"
            ]
          },
          "metadata": {},
          "execution_count": 4
        }
      ]
    },
    {
      "cell_type": "markdown",
      "source": [
        "* Plotting"
      ],
      "metadata": {
        "id": "baE8tnZG0hhu"
      }
    },
    {
      "cell_type": "code",
      "source": [
        "import matplotlib.pyplot as plt\n",
        "%matplotlib inline\n",
        "plt.imshow(x_train[0], cmap=plt.cm.binary)"
      ],
      "metadata": {
        "colab": {
          "base_uri": "https://localhost:8080/",
          "height": 283
        },
        "id": "g90nROoS0gUo",
        "outputId": "e4ba218f-82b9-4bc6-abee-525bde9f27b9"
      },
      "execution_count": 5,
      "outputs": [
        {
          "output_type": "execute_result",
          "data": {
            "text/plain": [
              "<matplotlib.image.AxesImage at 0x7f502f906650>"
            ]
          },
          "metadata": {},
          "execution_count": 5
        },
        {
          "output_type": "display_data",
          "data": {
            "text/plain": [
              "<Figure size 432x288 with 1 Axes>"
            ],
            "image/png": "[encoded data removed]"
          },
          "metadata": {
            "needs_background": "light"
          }
        }
      ]
    },
    {
      "cell_type": "code",
      "source": [
        "import tensorflow as tf\n",
        "x_train = tf.keras.utils.normalize(x_train, axis=1)\n",
        "x_test = tf.keras.utils.normalize(x_test, axis=1)\n",
        "plt.imshow(x_train[0], cmap=plt.cm.binary)"
      ],
      "metadata": {
        "colab": {
          "base_uri": "https://localhost:8080/",
          "height": 283
        },
        "id": "D1bvK5fn3kbC",
        "outputId": "c07c9788-7091-4659-d4fd-ac1053f0620a"
      },
      "execution_count": 6,
      "outputs": [
        {
          "output_type": "execute_result",
          "data": {
            "text/plain": [
              "<matplotlib.image.AxesImage at 0x7f502f01e790>"
            ]
          },
          "metadata": {},
          "execution_count": 6
        },
        {
          "output_type": "display_data",
          "data": {
            "text/plain": [
              "<Figure size 432x288 with 1 Axes>"
            ],
            "image/png": "[encoded data removed]"
          },
          "metadata": {
            "needs_background": "light"
          }
        }
      ]
    },
    {
      "cell_type": "code",
      "source": [
        "model = Sequential()\n",
        "\n",
        "# 28*28 픽셀 크기의 이미지를 784 엘리먼트의 단일 벡터로 변경해 입력\n",
        "model.add(Flatten(input_shape=(28, 28)))\n",
        "model.add(Dense(24, activation='relu',\n",
        "                kernel_initializer='glorot_uniform', # 가중치 초기화 \n",
        "                bias_initializer='zeros'))\n",
        "model.add(Dense(8, activation='relu'))\n",
        "model.add(Dense(10, activation='softmax'))\n",
        "model.add(Dense(18, activation='relu'))\n",
        "model.add(Dense(10, activation='softmax'))"
      ],
      "metadata": {
        "id": "cVv6jx6135LY"
      },
      "execution_count": 7,
      "outputs": []
    },
    {
      "cell_type": "code",
      "source": [
        "# glorot_unitform : 거즁차룰 -한도 ~ 한도 사이의 균일 분포 샘플에서 추출\n",
        "# 한도 = sqrt(6 / (fan-in + fan_out)) : 가중치 텐서의 입력 유닛 수  + 가중치 텐서의 출력 유닛 수\n",
        "# random_uniform : 가중치를 -0.05~0.05 사이의 작은 균일 값에서 무작위로 초기화\n",
        "# random_normal : 가중치를 표준 0, 표준편차 0.05를 따르는 가우시안 분포에 따라 초기화\n",
        "# zero : 레이어 가중치를 0으로 초기화 "
      ],
      "metadata": {
        "id": "KS2Y636M4pCa"
      },
      "execution_count": 8,
      "outputs": []
    },
    {
      "cell_type": "code",
      "source": [
        "from tensorflow.keras.utils import plot_model\n",
        "plot_model(model, show_shapes=True)"
      ],
      "metadata": {
        "colab": {
          "base_uri": "https://localhost:8080/",
          "height": 754
        },
        "id": "Ez7BWzFF8ALv",
        "outputId": "2c9cbc6e-a9db-4ba1-b3ad-94513a53633f"
      },
      "execution_count": 9,
      "outputs": [
        {
          "output_type": "execute_result",
          "data": {
            "text/plain": [
              "<IPython.core.display.Image object>"
            ],
            "image/png": "[encoded data removed]"
          },
          "metadata": {},
          "execution_count": 9
        }
      ]
    },
    {
      "cell_type": "code",
      "source": [
        "model.summary()"
      ],
      "metadata": {
        "colab": {
          "base_uri": "https://localhost:8080/"
        },
        "id": "4BHKsDv68rcH",
        "outputId": "3e43d61f-506b-4482-cdef-e706527c8560"
      },
      "execution_count": 10,
      "outputs": [
        {
          "output_type": "stream",
          "name": "stdout",
          "text": [
            "Model: \"sequential\"\n",
            "_________________________________________________________________\n",
            " Layer (type)                Output Shape              Param #   \n",
            "=================================================================\n",
            " flatten (Flatten)           (None, 784)               0         \n",
            "                                                                 \n",
            " dense (Dense)               (None, 24)                18840     \n",
            "                                                                 \n",
            " dense_1 (Dense)             (None, 8)                 200       \n",
            "                                                                 \n",
            " dense_2 (Dense)             (None, 10)                90        \n",
            "                                                                 \n",
            " dense_3 (Dense)             (None, 18)                198       \n",
            "                                                                 \n",
            " dense_4 (Dense)             (None, 10)                190       \n",
            "                                                                 \n",
            "=================================================================\n",
            "Total params: 19,518\n",
            "Trainable params: 19,518\n",
            "Non-trainable params: 0\n",
            "_________________________________________________________________\n"
          ]
        }
      ]
    },
    {
      "cell_type": "code",
      "source": [
        "model.compile(optimizer='rmsprop',\n",
        "              loss='sparse_categorical_crossentropy',\n",
        "              metrics=['accuracy'])"
      ],
      "metadata": {
        "id": "0X03NNLg9Ba0"
      },
      "execution_count": 11,
      "outputs": []
    },
    {
      "cell_type": "code",
      "source": [
        "model.fit(x_train, y_train,\n",
        "          epochs=5, \n",
        "          batch_size=100, \n",
        "          validation_split=0.33)"
      ],
      "metadata": {
        "colab": {
          "base_uri": "https://localhost:8080/"
        },
        "id": "TxU92Pg79h8y",
        "outputId": "45047c46-8a41-4b12-f76d-13b7b58bac7d"
      },
      "execution_count": 12,
      "outputs": [
        {
          "output_type": "stream",
          "name": "stdout",
          "text": [
            "Epoch 1/5\n",
            "402/402 [==============================] - 2s 4ms/step - loss: 1.8463 - accuracy: 0.3967 - val_loss: 1.3941 - val_accuracy: 0.5278\n",
            "Epoch 2/5\n",
            "402/402 [==============================] - 3s 6ms/step - loss: 1.1275 - accuracy: 0.6084 - val_loss: 0.9273 - val_accuracy: 0.6969\n",
            "Epoch 3/5\n",
            "402/402 [==============================] - 3s 6ms/step - loss: 0.7898 - accuracy: 0.7619 - val_loss: 0.6692 - val_accuracy: 0.8317\n",
            "Epoch 4/5\n",
            "402/402 [==============================] - 2s 6ms/step - loss: 0.5740 - accuracy: 0.8579 - val_loss: 0.5158 - val_accuracy: 0.8718\n",
            "Epoch 5/5\n",
            "402/402 [==============================] - 3s 6ms/step - loss: 0.4548 - accuracy: 0.8860 - val_loss: 0.4427 - val_accuracy: 0.8879\n"
          ]
        },
        {
          "output_type": "execute_result",
          "data": {
            "text/plain": [
              "<keras.callbacks.History at 0x7f502b1f1c50>"
            ]
          },
          "metadata": {},
          "execution_count": 12
        }
      ]
    },
    {
      "cell_type": "code",
      "source": [
        "model.evaluate(x_test, y_test)"
      ],
      "metadata": {
        "colab": {
          "base_uri": "https://localhost:8080/"
        },
        "id": "XOCfSQqz-TAj",
        "outputId": "43b0c528-af08-454b-ac58-439bcdd90109"
      },
      "execution_count": 13,
      "outputs": [
        {
          "output_type": "stream",
          "name": "stdout",
          "text": [
            "313/313 [==============================] - 1s 4ms/step - loss: 0.4473 - accuracy: 0.8913\n"
          ]
        },
        {
          "output_type": "execute_result",
          "data": {
            "text/plain": [
              "[0.4472588002681732, 0.8913000226020813]"
            ]
          },
          "metadata": {},
          "execution_count": 13
        }
      ]
    },
    {
      "cell_type": "code",
      "source": [
        "predictions = model.predict([x_test])\n",
        "\n",
        "#모델에서 생성된 추론 그래프를 사용해 테스트 데이터셋의 클래스 라벨을 추론\n",
        "# x_test 객체 110번에 대한 예측의 최곳값을 출력\n",
        "\n",
        "import numpy as np\n",
        "print(np.argmax(predictions[110]))"
      ],
      "metadata": {
        "colab": {
          "base_uri": "https://localhost:8080/"
        },
        "id": "rq1QLmRBD2q0",
        "outputId": "6fe23dfb-8079-4cf4-e933-9a2b46ed75a3"
      },
      "execution_count": 14,
      "outputs": [
        {
          "output_type": "stream",
          "name": "stdout",
          "text": [
            "8\n"
          ]
        }
      ]
    },
    {
      "cell_type": "code",
      "source": [
        "plt.imshow(x_test[110])"
      ],
      "metadata": {
        "colab": {
          "base_uri": "https://localhost:8080/",
          "height": 283
        },
        "id": "iGm8AHCaH1tT",
        "outputId": "5af76f81-ab97-4d07-b1d5-a41416a01572"
      },
      "execution_count": 15,
      "outputs": [
        {
          "output_type": "execute_result",
          "data": {
            "text/plain": [
              "<matplotlib.image.AxesImage at 0x7f50b02a8710>"
            ]
          },
          "metadata": {},
          "execution_count": 15
        },
        {
          "output_type": "display_data",
          "data": {
            "text/plain": [
              "<Figure size 432x288 with 1 Axes>"
            ],
            "image/png": "[encoded data removed]"
          },
          "metadata": {
            "needs_background": "light"
          }
        }
      ]
    },
    {
      "cell_type": "code",
      "source": [
        "# 모델 구현, 피드포워드 네트워크\n",
        "import keras.regularizers\n",
        "model = Sequential()\n",
        "model.add(Flatten(input_shape=(28, 28, )))\n",
        "model.add(Dense(1024, kernel_regularizer= keras.regularizers.l2(0.0001),\n",
        "                activation='relu'))\n",
        "model.add(Dense(28, kernel_regularizer= keras.regularizers.l2(0.0001),\n",
        "                activation='relu'))\n",
        "model.add(Dense(10, activation='softmax'))"
      ],
      "metadata": {
        "id": "B35PST0mH8If"
      },
      "execution_count": 24,
      "outputs": []
    },
    {
      "cell_type": "code",
      "source": [
        "#가중치 정규화\n",
        "import keras.regularizers\n",
        "model = Sequential()\n",
        "model.add(Flatten(input_shape=(28, 28, )))\n",
        "model.add(Dense(1024,\n",
        "                kernel_regularizer=keras.regularizers.l2(0.0001), \n",
        "                activation='relu'))\n",
        "model.add(Dense(10, activation='softmax'))"
      ],
      "metadata": {
        "id": "Xysjeyf0x90v"
      },
      "execution_count": 25,
      "outputs": []
    },
    {
      "cell_type": "code",
      "source": [
        "# 간단한 피드포워드 뉴럴 네트워크\n",
        "model = Sequential()\n",
        "\n",
        "#28x28 픽셀 행렬로 구성된 이미지를 784개 엘리먼트를 가진 단일 배열로 입력\n",
        "model.add(Flatten(input_shape=(28, 28)))\n",
        "model.add(Dense(1024, activation='relu'))\n",
        "model.add(Dropout(0.3))\n",
        "model.add(Dense(28, activation='relu'))\n",
        "model.add(Dense(10, activation='softmax'))"
      ],
      "metadata": {
        "id": "bHVmfUR0y_Nr"
      },
      "execution_count": 27,
      "outputs": []
    },
    {
      "cell_type": "code",
      "source": [
        ""
      ],
      "metadata": {
        "id": "VUbALNFR0Wil"
      },
      "execution_count": null,
      "outputs": []
    }
  ]
}