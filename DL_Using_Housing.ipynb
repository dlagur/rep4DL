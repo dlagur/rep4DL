{
  "nbformat": 4,
  "nbformat_minor": 0,
  "metadata": {
    "colab": {
      "name": "DL_Using_Housing.ipynb",
      "provenance": [],
      "authorship_tag": "ABX9TyPuS0JS9sUJYNB7fCHnErTQ",
      "include_colab_link": true
    },
    "kernelspec": {
      "name": "python3",
      "display_name": "Python 3"
    },
    "language_info": {
      "name": "python"
    }
  },
  "cells": [
    {
      "cell_type": "markdown",
      "metadata": {
        "id": "view-in-github",
        "colab_type": "text"
      },
      "source": [
        "<a href=\"https://colab.research.google.com/github/dlagur/rep4DL/blob/main/DL_Using_Housing.ipynb\" target=\"_parent\"><img src=\"https://colab.research.google.com/assets/colab-badge.svg\" alt=\"Open In Colab\"/></a>"
      ]
    },
    {
      "cell_type": "code",
      "execution_count": 2,
      "metadata": {
        "id": "XvI5yWrDtAK-",
        "colab": {
          "base_uri": "https://localhost:8080/"
        },
        "outputId": "01d608a6-da51-4ef2-c156-45e1fa253e51"
      },
      "outputs": [
        {
          "output_type": "stream",
          "name": "stdout",
          "text": [
            "Downloading data from https://storage.googleapis.com/tensorflow/tf-keras-datasets/boston_housing.npz\n",
            "57344/57026 [==============================] - 0s 0us/step\n",
            "65536/57026 [==================================] - 0s 0us/step\n"
          ]
        },
        {
          "output_type": "execute_result",
          "data": {
            "text/plain": [
              "(array([2.1770e-02, 8.2500e+01, 2.0300e+00, 0.0000e+00, 4.1500e-01,\n",
              "        7.6100e+00, 1.5700e+01, 6.2700e+00, 2.0000e+00, 3.4800e+02,\n",
              "        1.4700e+01, 3.9538e+02, 3.1100e+00]), 42.3)"
            ]
          },
          "metadata": {},
          "execution_count": 2
        }
      ],
      "source": [
        "import keras\n",
        "from keras.datasets import boston_housing\n",
        "(x_train, y_train), (x_test, y_test) = boston_housing.load_data()\n",
        "x_train[1], y_train[1]"
      ]
    },
    {
      "cell_type": "code",
      "source": [
        "print(type(x_train),\n",
        "      'training data:', x_train.shape,\n",
        "      'test data:', x_test.shape)"
      ],
      "metadata": {
        "colab": {
          "base_uri": "https://localhost:8080/"
        },
        "id": "y-GFCrcb8Na3",
        "outputId": "8527d249-1436-4697-daa3-da8e8cd716c0"
      },
      "execution_count": 3,
      "outputs": [
        {
          "output_type": "stream",
          "name": "stdout",
          "text": [
            "<class 'numpy.ndarray'> training data: (404, 13) test data: (102, 13)\n"
          ]
        }
      ]
    },
    {
      "cell_type": "code",
      "source": [
        "x_train"
      ],
      "metadata": {
        "colab": {
          "base_uri": "https://localhost:8080/"
        },
        "id": "cyEC16zv_EVJ",
        "outputId": "a979b909-d52c-4e5b-eaa3-04d963d6a193"
      },
      "execution_count": 8,
      "outputs": [
        {
          "output_type": "execute_result",
          "data": {
            "text/plain": [
              "array([[1.23247e+00, 0.00000e+00, 8.14000e+00, ..., 2.10000e+01,\n",
              "        3.96900e+02, 1.87200e+01],\n",
              "       [2.17700e-02, 8.25000e+01, 2.03000e+00, ..., 1.47000e+01,\n",
              "        3.95380e+02, 3.11000e+00],\n",
              "       [4.89822e+00, 0.00000e+00, 1.81000e+01, ..., 2.02000e+01,\n",
              "        3.75520e+02, 3.26000e+00],\n",
              "       ...,\n",
              "       [3.46600e-02, 3.50000e+01, 6.06000e+00, ..., 1.69000e+01,\n",
              "        3.62250e+02, 7.83000e+00],\n",
              "       [2.14918e+00, 0.00000e+00, 1.95800e+01, ..., 1.47000e+01,\n",
              "        2.61950e+02, 1.57900e+01],\n",
              "       [1.43900e-02, 6.00000e+01, 2.93000e+00, ..., 1.56000e+01,\n",
              "        3.76700e+02, 4.38000e+00]])"
            ]
          },
          "metadata": {},
          "execution_count": 8
        }
      ]
    },
    {
      "cell_type": "code",
      "source": [
        "column_names = ['CRIM', 'ZN', 'INDUS', 'CHAS', 'NOX', 'RM',\n",
        "                'AGE', 'DIS', 'RAD', 'TAX', 'PTRATIO', 'B',\n",
        "                'LSTAT']\n",
        "key = ['Per capita crime rate.',\n",
        "       'The proportion of residential land zoned for lots over 25,000 square feet.',\n",
        "       'The proportion of non-retail business acres per town',\n",
        "       'Charles River dummy variable (= 1 if tract bounds river; 0 otherwise)',\n",
        "       'Nitric oxides concentration(parts per 10 million)',\n",
        "       'The average number of rooms per dwelling',\n",
        "       'The proportion of owner-occupied units built before 1940',\n",
        "       'Weighted distances to five Boston employment centers',\n",
        "       'Index of accessibility to radial highways',\n",
        "       'Full Value property tax rate per $10,000',\n",
        "       'Pupil-Teacher ratio by town',\n",
        "       '1000*(Bk-0.63)**2 where Bk is the proportion of Black people by town',\n",
        "       'Percentage lower status of the population',\n",
        "       'Median value of owner-occupied homes in $1,000\\'s']"
      ],
      "metadata": {
        "id": "oy3BQ2lW8lZH"
      },
      "execution_count": 12,
      "outputs": []
    },
    {
      "cell_type": "code",
      "source": [
        "import pandas as pd\n",
        "\n",
        "df = pd.DataFrame(x_train, columns=column_names)\n",
        "df.head()"
      ],
      "metadata": {
        "colab": {
          "base_uri": "https://localhost:8080/",
          "height": 206
        },
        "id": "kpvTjNq5-jg8",
        "outputId": "20e93f29-2460-4ec9-be79-768d0da068ed"
      },
      "execution_count": 13,
      "outputs": [
        {
          "output_type": "execute_result",
          "data": {
            "text/plain": [
              "      CRIM    ZN  INDUS  CHAS    NOX     RM    AGE     DIS   RAD    TAX  \\\n",
              "0  1.23247   0.0   8.14   0.0  0.538  6.142   91.7  3.9769   4.0  307.0   \n",
              "1  0.02177  82.5   2.03   0.0  0.415  7.610   15.7  6.2700   2.0  348.0   \n",
              "2  4.89822   0.0  18.10   0.0  0.631  4.970  100.0  1.3325  24.0  666.0   \n",
              "3  0.03961   0.0   5.19   0.0  0.515  6.037   34.5  5.9853   5.0  224.0   \n",
              "4  3.69311   0.0  18.10   0.0  0.713  6.376   88.4  2.5671  24.0  666.0   \n",
              "\n",
              "   PTRATIO       B  LSTAT  \n",
              "0     21.0  396.90  18.72  \n",
              "1     14.7  395.38   3.11  \n",
              "2     20.2  375.52   3.26  \n",
              "3     20.2  396.90   8.01  \n",
              "4     20.2  391.43  14.65  "
            ],
            "text/html": [
              "\n",
              "  <div id=\"df-e21dbfcd-0dd8-458b-8964-5c5fd95378ae\">\n",
              "    <div class=\"colab-df-container\">\n",
              "      <div>\n",
              "<style scoped>\n",
              "    .dataframe tbody tr th:only-of-type {\n",
              "        vertical-align: middle;\n",
              "    }\n",
              "\n",
              "    .dataframe tbody tr th {\n",
              "        vertical-align: top;\n",
              "    }\n",
              "\n",
              "    .dataframe thead th {\n",
              "        text-align: right;\n",
              "    }\n",
              "</style>\n",
              "<table border=\"1\" class=\"dataframe\">\n",
              "  <thead>\n",
              "    <tr style=\"text-align: right;\">\n",
              "      <th></th>\n",
              "      <th>CRIM</th>\n",
              "      <th>ZN</th>\n",
              "      <th>INDUS</th>\n",
              "      <th>CHAS</th>\n",
              "      <th>NOX</th>\n",
              "      <th>RM</th>\n",
              "      <th>AGE</th>\n",
              "      <th>DIS</th>\n",
              "      <th>RAD</th>\n",
              "      <th>TAX</th>\n",
              "      <th>PTRATIO</th>\n",
              "      <th>B</th>\n",
              "      <th>LSTAT</th>\n",
              "    </tr>\n",
              "  </thead>\n",
              "  <tbody>\n",
              "    <tr>\n",
              "      <th>0</th>\n",
              "      <td>1.23247</td>\n",
              "      <td>0.0</td>\n",
              "      <td>8.14</td>\n",
              "      <td>0.0</td>\n",
              "      <td>0.538</td>\n",
              "      <td>6.142</td>\n",
              "      <td>91.7</td>\n",
              "      <td>3.9769</td>\n",
              "      <td>4.0</td>\n",
              "      <td>307.0</td>\n",
              "      <td>21.0</td>\n",
              "      <td>396.90</td>\n",
              "      <td>18.72</td>\n",
              "    </tr>\n",
              "    <tr>\n",
              "      <th>1</th>\n",
              "      <td>0.02177</td>\n",
              "      <td>82.5</td>\n",
              "      <td>2.03</td>\n",
              "      <td>0.0</td>\n",
              "      <td>0.415</td>\n",
              "      <td>7.610</td>\n",
              "      <td>15.7</td>\n",
              "      <td>6.2700</td>\n",
              "      <td>2.0</td>\n",
              "      <td>348.0</td>\n",
              "      <td>14.7</td>\n",
              "      <td>395.38</td>\n",
              "      <td>3.11</td>\n",
              "    </tr>\n",
              "    <tr>\n",
              "      <th>2</th>\n",
              "      <td>4.89822</td>\n",
              "      <td>0.0</td>\n",
              "      <td>18.10</td>\n",
              "      <td>0.0</td>\n",
              "      <td>0.631</td>\n",
              "      <td>4.970</td>\n",
              "      <td>100.0</td>\n",
              "      <td>1.3325</td>\n",
              "      <td>24.0</td>\n",
              "      <td>666.0</td>\n",
              "      <td>20.2</td>\n",
              "      <td>375.52</td>\n",
              "      <td>3.26</td>\n",
              "    </tr>\n",
              "    <tr>\n",
              "      <th>3</th>\n",
              "      <td>0.03961</td>\n",
              "      <td>0.0</td>\n",
              "      <td>5.19</td>\n",
              "      <td>0.0</td>\n",
              "      <td>0.515</td>\n",
              "      <td>6.037</td>\n",
              "      <td>34.5</td>\n",
              "      <td>5.9853</td>\n",
              "      <td>5.0</td>\n",
              "      <td>224.0</td>\n",
              "      <td>20.2</td>\n",
              "      <td>396.90</td>\n",
              "      <td>8.01</td>\n",
              "    </tr>\n",
              "    <tr>\n",
              "      <th>4</th>\n",
              "      <td>3.69311</td>\n",
              "      <td>0.0</td>\n",
              "      <td>18.10</td>\n",
              "      <td>0.0</td>\n",
              "      <td>0.713</td>\n",
              "      <td>6.376</td>\n",
              "      <td>88.4</td>\n",
              "      <td>2.5671</td>\n",
              "      <td>24.0</td>\n",
              "      <td>666.0</td>\n",
              "      <td>20.2</td>\n",
              "      <td>391.43</td>\n",
              "      <td>14.65</td>\n",
              "    </tr>\n",
              "  </tbody>\n",
              "</table>\n",
              "</div>\n",
              "      <button class=\"colab-df-convert\" onclick=\"convertToInteractive('df-e21dbfcd-0dd8-458b-8964-5c5fd95378ae')\"\n",
              "              title=\"Convert this dataframe to an interactive table.\"\n",
              "              style=\"display:none;\">\n",
              "        \n",
              "  <svg xmlns=\"http://www.w3.org/2000/svg\" height=\"24px\"viewBox=\"0 0 24 24\"\n",
              "       width=\"24px\">\n",
              "    <path d=\"M0 0h24v24H0V0z\" fill=\"none\"/>\n",
              "    <path d=\"M18.56 5.44l.94 2.06.94-2.06 2.06-.94-2.06-.94-.94-2.06-.94 2.06-2.06.94zm-11 1L8.5 8.5l.94-2.06 2.06-.94-2.06-.94L8.5 2.5l-.94 2.06-2.06.94zm10 10l.94 2.06.94-2.06 2.06-.94-2.06-.94-.94-2.06-.94 2.06-2.06.94z\"/><path d=\"M17.41 7.96l-1.37-1.37c-.4-.4-.92-.59-1.43-.59-.52 0-1.04.2-1.43.59L10.3 9.45l-7.72 7.72c-.78.78-.78 2.05 0 2.83L4 21.41c.39.39.9.59 1.41.59.51 0 1.02-.2 1.41-.59l7.78-7.78 2.81-2.81c.8-.78.8-2.07 0-2.86zM5.41 20L4 18.59l7.72-7.72 1.47 1.35L5.41 20z\"/>\n",
              "  </svg>\n",
              "      </button>\n",
              "      \n",
              "  <style>\n",
              "    .colab-df-container {\n",
              "      display:flex;\n",
              "      flex-wrap:wrap;\n",
              "      gap: 12px;\n",
              "    }\n",
              "\n",
              "    .colab-df-convert {\n",
              "      background-color: #E8F0FE;\n",
              "      border: none;\n",
              "      border-radius: 50%;\n",
              "      cursor: pointer;\n",
              "      display: none;\n",
              "      fill: #1967D2;\n",
              "      height: 32px;\n",
              "      padding: 0 0 0 0;\n",
              "      width: 32px;\n",
              "    }\n",
              "\n",
              "    .colab-df-convert:hover {\n",
              "      background-color: #E2EBFA;\n",
              "      box-shadow: 0px 1px 2px rgba(60, 64, 67, 0.3), 0px 1px 3px 1px rgba(60, 64, 67, 0.15);\n",
              "      fill: #174EA6;\n",
              "    }\n",
              "\n",
              "    [theme=dark] .colab-df-convert {\n",
              "      background-color: #3B4455;\n",
              "      fill: #D2E3FC;\n",
              "    }\n",
              "\n",
              "    [theme=dark] .colab-df-convert:hover {\n",
              "      background-color: #434B5C;\n",
              "      box-shadow: 0px 1px 3px 1px rgba(0, 0, 0, 0.15);\n",
              "      filter: drop-shadow(0px 1px 2px rgba(0, 0, 0, 0.3));\n",
              "      fill: #FFFFFF;\n",
              "    }\n",
              "  </style>\n",
              "\n",
              "      <script>\n",
              "        const buttonEl =\n",
              "          document.querySelector('#df-e21dbfcd-0dd8-458b-8964-5c5fd95378ae button.colab-df-convert');\n",
              "        buttonEl.style.display =\n",
              "          google.colab.kernel.accessAllowed ? 'block' : 'none';\n",
              "\n",
              "        async function convertToInteractive(key) {\n",
              "          const element = document.querySelector('#df-e21dbfcd-0dd8-458b-8964-5c5fd95378ae');\n",
              "          const dataTable =\n",
              "            await google.colab.kernel.invokeFunction('convertToInteractive',\n",
              "                                                     [key], {});\n",
              "          if (!dataTable) return;\n",
              "\n",
              "          const docLinkHtml = 'Like what you see? Visit the ' +\n",
              "            '<a target=\"_blank\" href=https://colab.research.google.com/notebooks/data_table.ipynb>data table notebook</a>'\n",
              "            + ' to learn more about interactive tables.';\n",
              "          element.innerHTML = '';\n",
              "          dataTable['output_type'] = 'display_data';\n",
              "          await google.colab.output.renderOutput(dataTable, element);\n",
              "          const docLink = document.createElement('div');\n",
              "          docLink.innerHTML = docLinkHtml;\n",
              "          element.appendChild(docLink);\n",
              "        }\n",
              "      </script>\n",
              "    </div>\n",
              "  </div>\n",
              "  "
            ]
          },
          "metadata": {},
          "execution_count": 13
        }
      ]
    },
    {
      "cell_type": "code",
      "source": [
        "# 특징별 표준화\n",
        "mean = x_train.mean(axis=0)\n",
        "std = x_train.std(axis=0)\n",
        "x_train = (x_train - mean) / std\n",
        "x_test = (x_test - mean) / std\n",
        "print(x_train[0]) #표준화된 첫 번째 샘플"
      ],
      "metadata": {
        "colab": {
          "base_uri": "https://localhost:8080/"
        },
        "id": "kPsjPPht-tfb",
        "outputId": "90e83225-8f23-42cb-8dce-dba910b5f234"
      },
      "execution_count": 14,
      "outputs": [
        {
          "output_type": "stream",
          "name": "stdout",
          "text": [
            "[-0.27224633 -0.48361547 -0.43576161 -0.25683275 -0.1652266  -0.1764426\n",
            "  0.81306188  0.1166983  -0.62624905 -0.59517003  1.14850044  0.44807713\n",
            "  0.8252202 ]\n"
          ]
        }
      ]
    },
    {
      "cell_type": "markdown",
      "source": [
        "## 모델 생성\n"
      ],
      "metadata": {
        "id": "YKJdIYjYAyvp"
      }
    },
    {
      "cell_type": "code",
      "source": [
        "from keras.layers import Dense, Dropout\n",
        "from keras.models import Sequential\n",
        "\n",
        "model = Sequential()\n",
        "model.add(Dense(26, activation='relu', input_shape=(13, )))\n",
        "model.add(Dense(26, activation='relu'))\n",
        "model.add(Dense(12, activation='relu'))\n",
        "model.add(Dense(1))"
      ],
      "metadata": {
        "id": "XAgvfh60Av1-"
      },
      "execution_count": 20,
      "outputs": []
    },
    {
      "cell_type": "code",
      "source": [
        "from keras import optimizers\n",
        "\n",
        "model.compile(optimizer='rmsprop',\n",
        "              loss='mse', # 평균 제곱 오차\n",
        "              metrics='mae') # 평균 절댓값 오차\n",
        "\n",
        "model.summary()"
      ],
      "metadata": {
        "colab": {
          "base_uri": "https://localhost:8080/"
        },
        "id": "2P2eRPm_Bae1",
        "outputId": "82f8e9a6-c884-4271-ee6e-b37fceae33e9"
      },
      "execution_count": 21,
      "outputs": [
        {
          "output_type": "stream",
          "name": "stdout",
          "text": [
            "Model: \"sequential_1\"\n",
            "_________________________________________________________________\n",
            " Layer (type)                Output Shape              Param #   \n",
            "=================================================================\n",
            " dense_4 (Dense)             (None, 26)                364       \n",
            "                                                                 \n",
            " dense_5 (Dense)             (None, 26)                702       \n",
            "                                                                 \n",
            " dense_6 (Dense)             (None, 12)                324       \n",
            "                                                                 \n",
            " dense_7 (Dense)             (None, 1)                 13        \n",
            "                                                                 \n",
            "=================================================================\n",
            "Total params: 1,403\n",
            "Trainable params: 1,403\n",
            "Non-trainable params: 0\n",
            "_________________________________________________________________\n"
          ]
        }
      ]
    },
    {
      "cell_type": "code",
      "source": [
        "network_metadata = model.fit(x_train, y_train,\n",
        "                             validation_data=(x_test, y_test),\n",
        "                             epochs=20, batch_size=10)\n",
        "import matplotlib.pyplot as plt\n",
        "import numpy as np\n",
        "\n",
        "def plot_history(history):\n",
        "    plt.figure()\n",
        "    plt.xlabel('Epoch')\n",
        "    plt.ylabel('Mean Abs Error [1000$]')\n",
        "    plt.plot(history.epoch,\n",
        "             np.array(history.history['mae']),\n",
        "             label='Train Loss')\n",
        "    plt.plot(history.epoch,\n",
        "             np.array(history.history['val_mae']),\n",
        "             label='Val Loss')\n",
        "    plt.legend()\n",
        "    plt.ylim([0,15])\n",
        "\n",
        "plot_history(network_metadata)"
      ],
      "metadata": {
        "colab": {
          "base_uri": "https://localhost:8080/",
          "height": 997
        },
        "id": "KP0TLdjzBto1",
        "outputId": "c5715038-4ddc-4814-fc95-1f00d0ac9b81"
      },
      "execution_count": 22,
      "outputs": [
        {
          "output_type": "stream",
          "name": "stdout",
          "text": [
            "Epoch 1/20\n",
            "41/41 [==============================] - 1s 7ms/step - loss: 501.9814 - mae: 20.4850 - val_loss: 426.1708 - val_mae: 18.6637\n",
            "Epoch 2/20\n",
            "41/41 [==============================] - 0s 3ms/step - loss: 291.6733 - mae: 14.7495 - val_loss: 190.2628 - val_mae: 11.4374\n",
            "Epoch 3/20\n",
            "41/41 [==============================] - 0s 3ms/step - loss: 115.5596 - mae: 7.9653 - val_loss: 91.0756 - val_mae: 7.4025\n",
            "Epoch 4/20\n",
            "41/41 [==============================] - 0s 3ms/step - loss: 65.8558 - mae: 5.7542 - val_loss: 60.1473 - val_mae: 5.9862\n",
            "Epoch 5/20\n",
            "41/41 [==============================] - 0s 3ms/step - loss: 43.0565 - mae: 4.6131 - val_loss: 41.6245 - val_mae: 4.9960\n",
            "Epoch 6/20\n",
            "41/41 [==============================] - 0s 3ms/step - loss: 28.5086 - mae: 3.7496 - val_loss: 29.3163 - val_mae: 4.1890\n",
            "Epoch 7/20\n",
            "41/41 [==============================] - 0s 3ms/step - loss: 22.0714 - mae: 3.2042 - val_loss: 26.0823 - val_mae: 3.7490\n",
            "Epoch 8/20\n",
            "41/41 [==============================] - 0s 3ms/step - loss: 18.2554 - mae: 2.9130 - val_loss: 27.3959 - val_mae: 3.7721\n",
            "Epoch 9/20\n",
            "41/41 [==============================] - 0s 3ms/step - loss: 16.9330 - mae: 2.7338 - val_loss: 24.8770 - val_mae: 3.4717\n",
            "Epoch 10/20\n",
            "41/41 [==============================] - 0s 3ms/step - loss: 15.5061 - mae: 2.6819 - val_loss: 25.3630 - val_mae: 3.4614\n",
            "Epoch 11/20\n",
            "41/41 [==============================] - 0s 3ms/step - loss: 14.3987 - mae: 2.5901 - val_loss: 26.2046 - val_mae: 3.4634\n",
            "Epoch 12/20\n",
            "41/41 [==============================] - 0s 3ms/step - loss: 13.3486 - mae: 2.5400 - val_loss: 24.9713 - val_mae: 3.3140\n",
            "Epoch 13/20\n",
            "41/41 [==============================] - 0s 3ms/step - loss: 12.7279 - mae: 2.4591 - val_loss: 26.1030 - val_mae: 3.3345\n",
            "Epoch 14/20\n",
            "41/41 [==============================] - 0s 3ms/step - loss: 12.0638 - mae: 2.4253 - val_loss: 26.1912 - val_mae: 3.3232\n",
            "Epoch 15/20\n",
            "41/41 [==============================] - 0s 3ms/step - loss: 11.4456 - mae: 2.4223 - val_loss: 24.3477 - val_mae: 3.2382\n",
            "Epoch 16/20\n",
            "41/41 [==============================] - 0s 3ms/step - loss: 11.3147 - mae: 2.3314 - val_loss: 25.6953 - val_mae: 3.3760\n",
            "Epoch 17/20\n",
            "41/41 [==============================] - 0s 3ms/step - loss: 11.0027 - mae: 2.3091 - val_loss: 24.7615 - val_mae: 3.1393\n",
            "Epoch 18/20\n",
            "41/41 [==============================] - 0s 3ms/step - loss: 10.6468 - mae: 2.3105 - val_loss: 26.7619 - val_mae: 3.4207\n",
            "Epoch 19/20\n",
            "41/41 [==============================] - 0s 3ms/step - loss: 10.4926 - mae: 2.2978 - val_loss: 24.7922 - val_mae: 3.2249\n",
            "Epoch 20/20\n",
            "41/41 [==============================] - 0s 3ms/step - loss: 10.0224 - mae: 2.2332 - val_loss: 23.6175 - val_mae: 3.0425\n"
          ]
        },
        {
          "output_type": "display_data",
          "data": {
            "text/plain": [
              "<Figure size 432x288 with 1 Axes>"
            ],
            "image/png": "[encoded data removed]"
          },
          "metadata": {
            "needs_background": "light"
          }
        }
      ]
    },
    {
      "cell_type": "markdown",
      "source": [
        "## 주택 가격 예측"
      ],
      "metadata": {
        "id": "Xyzf0H71ExAt"
      }
    },
    {
      "cell_type": "code",
      "source": [
        "test_predictions = model.predict(x_test).flatten()\n",
        "\n",
        "plt.scatter(y_test, test_predictions)\n",
        "plt.xlabel('True Values [1000$]')\n",
        "plt.ylabel('Predictions[1000$]')\n",
        "plt.axis('equal')\n",
        "plt.xlim(plt.xlim())\n",
        "plt.ylim(plt.ylim())\n",
        "_ = plt.plot([-100, 100], [-100, 100])"
      ],
      "metadata": {
        "colab": {
          "base_uri": "https://localhost:8080/",
          "height": 279
        },
        "id": "Vh7_9bd_EMEG",
        "outputId": "7c637a28-d01e-44b7-cb16-5b87879e2090"
      },
      "execution_count": 23,
      "outputs": [
        {
          "output_type": "display_data",
          "data": {
            "text/plain": [
              "<Figure size 432x288 with 1 Axes>"
            ],
            "image/png": "[encoded data removed]"
          },
          "metadata": {
            "needs_background": "light"
          }
        }
      ]
    },
    {
      "cell_type": "markdown",
      "source": [
        " -> 최적 적합 직선과 예측값의 위치를 확인."
      ],
      "metadata": {
        "id": "J-nAOf2KFYVP"
      }
    },
    {
      "cell_type": "code",
      "source": [
        "# 예측 오차 분포\n",
        "error = test_predictions - y_test\n",
        "plt.hist(error, bins=50)\n",
        "plt.xlabel('Prediction Error [1000$]')\n",
        "_ = plt.ylabel('Count')"
      ],
      "metadata": {
        "colab": {
          "base_uri": "https://localhost:8080/",
          "height": 279
        },
        "id": "SWSb7J-3FdZK",
        "outputId": "5b82b6b8-cfab-4bfc-f733-be8c3f66179d"
      },
      "execution_count": 24,
      "outputs": [
        {
          "output_type": "display_data",
          "data": {
            "text/plain": [
              "<Figure size 432x288 with 1 Axes>"
            ],
            "image/png": "[encoded data removed]"
          },
          "metadata": {
            "needs_background": "light"
          }
        }
      ]
    },
    {
      "cell_type": "markdown",
      "source": [
        "-> 모델이 일부 주택 가격을 너무 낮거나 높게 평가한 모습을 확인할 수 있다. "
      ],
      "metadata": {
        "id": "QlsDEl_oF0cy"
      }
    },
    {
      "cell_type": "markdown",
      "source": [
        "## K-fold cross validation"
      ],
      "metadata": {
        "id": "vGlvxs4cJ7z4"
      }
    },
    {
      "cell_type": "code",
      "source": [
        "import numpy as np\n",
        "import pandas as pd\n",
        "\n",
        "from keras.models import Sequential\n",
        "from keras.layers import Dense\n",
        "from keras.wrappers.scikit_learn import KerasRegressor\n",
        "\n",
        "from sklearn.model_selection import cross_val_score\n",
        "from sklearn.model_selection import KFold\n",
        "\n",
        "from sklearn.preprocessing import StandardScaler\n",
        "from sklearn.pipeline import Pipeline\n",
        "\n",
        "from keras.datasets import boston_housing\n",
        "\n",
        "(x_train, y_train), (x_test, y_test) = boston_housing.load_data()\n",
        "x_train.shape, x_test.shape"
      ],
      "metadata": {
        "colab": {
          "base_uri": "https://localhost:8080/"
        },
        "id": "exB7z-lhKAzP",
        "outputId": "9d404643-67da-4fa5-8f48-0fdf04fb2a5e"
      },
      "execution_count": 25,
      "outputs": [
        {
          "output_type": "execute_result",
          "data": {
            "text/plain": [
              "((404, 13), (102, 13))"
            ]
          },
          "metadata": {},
          "execution_count": 25
        }
      ]
    },
    {
      "cell_type": "code",
      "source": [
        "import numpy as np\n",
        "x_train = np.concatenate((x_train, x_test), axis=0)\n",
        "y_train = np.concatenate((y_train, y_test), axis=0)\n",
        "\n",
        "x_train.shape, y_train.shape"
      ],
      "metadata": {
        "colab": {
          "base_uri": "https://localhost:8080/"
        },
        "id": "VIHkfHcEK98I",
        "outputId": "59d976fb-76e1-4913-90d6-ead551932cef"
      },
      "execution_count": 26,
      "outputs": [
        {
          "output_type": "execute_result",
          "data": {
            "text/plain": [
              "((506, 13), (506,))"
            ]
          },
          "metadata": {},
          "execution_count": 26
        }
      ]
    },
    {
      "cell_type": "code",
      "source": [
        "def baseline_model():\n",
        "    model = Sequential()\n",
        "    model.add(Dense(13, input_dim=13, kernel_initializer='normal',\n",
        "                    activation='relu'))\n",
        "    model.add(Dense(1, kernel_initializer='normal'))\n",
        "    model.compile(loss='mse', optimizer='adam')\n",
        "    return model"
      ],
      "metadata": {
        "id": "OJvksCFDLQ-9"
      },
      "execution_count": 27,
      "outputs": []
    },
    {
      "cell_type": "code",
      "source": [
        "# 훈련 재현용 난수 시드 설정\n",
        "seed = 7\n",
        "np.random.seed(seed)\n",
        "\n",
        "# 데이터에 Scaler, KerasReprogressor 추가\n",
        "# estimator 목록에 모델 함수를 포함하는 스케일러와 케라스 회귀자를 추가\n",
        "\n",
        "estimators = []\n",
        "estimators.append(('standardize', StandardScaler()))\n",
        "estimators.append(('mlp', KerasRegressor(build_fn=baseline_model, epochs=100, batch_size=5, verbose=0)))\n",
        "\n",
        "# 사이킷 런 파이프라인에 추정자를 추가한다\n",
        "pipeline = Pipeline(estimators)\n",
        "\n",
        "# 사이킷 런 API를 사용해 k-폴드 검증 인스턴스 초기화\n",
        "kfold = KFold(n_splits=5, random_state=seed, shuffle=True)\n",
        "\n",
        "# 파이프라인 인스턴스, 훈련 데이터 및 훈련 라벨, k-폴드 교차 검증자\n",
        "# 인스턴스를 전달해서 점수 계산\n",
        "results = cross_val_score(pipeline, x_train, y_train, cv=kfold)\n",
        "\n",
        "# 평가한 모델 이름 출력\n",
        "#print('Model Type:', i)\n",
        "\n",
        "#결과 변수는 5번의 교차 검증 수행별 평균 제곱 오차를 포함\n",
        "print('MSE per fold:')\n",
        "print(results)\n",
        "\n",
        "#5개의 폴드에 대해 모델별로 평균과 표준편차 출력\n",
        "print('Average MSE of all 5 runs: %.2f, with standard dev: (%.2f)' % (-1 * (results.mean()), # 사이킷 런이 제공하는 통합 점수 API가 항상 입력된 점수를 최대화하려 하기 때문\n",
        "                                                                      results.std()))"
      ],
      "metadata": {
        "colab": {
          "base_uri": "https://localhost:8080/"
        },
        "id": "dBEZS-irL6uA",
        "outputId": "53eace16-a041-49fc-8d37-6d6250c16f94"
      },
      "execution_count": 34,
      "outputs": [
        {
          "output_type": "stream",
          "name": "stderr",
          "text": [
            "/usr/local/lib/python3.7/dist-packages/ipykernel_launcher.py:10: DeprecationWarning: KerasRegressor is deprecated, use Sci-Keras (https://github.com/adriangb/scikeras) instead. See https://www.adriangb.com/scikeras/stable/migration.html for help migrating.\n",
            "  # Remove the CWD from sys.path while we load stuff.\n"
          ]
        },
        {
          "output_type": "stream",
          "name": "stdout",
          "text": [
            "MSE per fold:\n",
            "[-18.60105705 -12.03145409 -15.52665329  -8.14354897 -19.84885216]\n",
            "Average MSE of all 5 runs: 14.83, with standard dev: (4.30)\n"
          ]
        }
      ]
    }
  ]
}