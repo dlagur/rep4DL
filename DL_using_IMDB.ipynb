{
  "nbformat": 4,
  "nbformat_minor": 0,
  "metadata": {
    "colab": {
      "name": "DL_using_IMDB.ipynb",
      "provenance": [],
      "authorship_tag": "ABX9TyPC/qX6Zpv8xogiTvmoZ3j5",
      "include_colab_link": true
    },
    "kernelspec": {
      "name": "python3",
      "display_name": "Python 3"
    },
    "language_info": {
      "name": "python"
    }
  },
  "cells": [
    {
      "cell_type": "markdown",
      "metadata": {
        "id": "view-in-github",
        "colab_type": "text"
      },
      "source": [
        "<a href=\"https://colab.research.google.com/github/dlagur/rep4DL/blob/main/DL_using_IMDB.ipynb\" target=\"_parent\"><img src=\"https://colab.research.google.com/assets/colab-badge.svg\" alt=\"Open In Colab\"/></a>"
      ]
    },
    {
      "cell_type": "code",
      "execution_count": 1,
      "metadata": {
        "id": "SXNkghAP1gTA"
      },
      "outputs": [],
      "source": [
        "import keras\n",
        "from keras.datasets import imdb\n",
        "(x_train, y_train), (x_test, y_test) = imdb.load_data(num_words=12000) # 가장 빈번하게 등장하는 단어의 숫자"
      ]
    },
    {
      "cell_type": "code",
      "source": [
        "x_train.shape, x_test.shape, type(x_train)"
      ],
      "metadata": {
        "colab": {
          "base_uri": "https://localhost:8080/"
        },
        "id": "4LeihmNi2T0D",
        "outputId": "0147ffdf-c70a-4874-fb9f-157f7c26e537"
      },
      "execution_count": 2,
      "outputs": [
        {
          "output_type": "execute_result",
          "data": {
            "text/plain": [
              "((25000,), (25000,), numpy.ndarray)"
            ]
          },
          "metadata": {},
          "execution_count": 2
        }
      ]
    },
    {
      "cell_type": "code",
      "source": [
        "x_train[1]"
      ],
      "metadata": {
        "colab": {
          "base_uri": "https://localhost:8080/"
        },
        "id": "u00Gg-UM4GpO",
        "outputId": "934ead14-0d08-4444-e4f3-4a823f29f2ca"
      },
      "execution_count": 3,
      "outputs": [
        {
          "output_type": "execute_result",
          "data": {
            "text/plain": [
              "[1,\n",
              " 194,\n",
              " 1153,\n",
              " 194,\n",
              " 8255,\n",
              " 78,\n",
              " 228,\n",
              " 5,\n",
              " 6,\n",
              " 1463,\n",
              " 4369,\n",
              " 5012,\n",
              " 134,\n",
              " 26,\n",
              " 4,\n",
              " 715,\n",
              " 8,\n",
              " 118,\n",
              " 1634,\n",
              " 14,\n",
              " 394,\n",
              " 20,\n",
              " 13,\n",
              " 119,\n",
              " 954,\n",
              " 189,\n",
              " 102,\n",
              " 5,\n",
              " 207,\n",
              " 110,\n",
              " 3103,\n",
              " 21,\n",
              " 14,\n",
              " 69,\n",
              " 188,\n",
              " 8,\n",
              " 30,\n",
              " 23,\n",
              " 7,\n",
              " 4,\n",
              " 249,\n",
              " 126,\n",
              " 93,\n",
              " 4,\n",
              " 114,\n",
              " 9,\n",
              " 2300,\n",
              " 1523,\n",
              " 5,\n",
              " 647,\n",
              " 4,\n",
              " 116,\n",
              " 9,\n",
              " 35,\n",
              " 8163,\n",
              " 4,\n",
              " 229,\n",
              " 9,\n",
              " 340,\n",
              " 1322,\n",
              " 4,\n",
              " 118,\n",
              " 9,\n",
              " 4,\n",
              " 130,\n",
              " 4901,\n",
              " 19,\n",
              " 4,\n",
              " 1002,\n",
              " 5,\n",
              " 89,\n",
              " 29,\n",
              " 952,\n",
              " 46,\n",
              " 37,\n",
              " 4,\n",
              " 455,\n",
              " 9,\n",
              " 45,\n",
              " 43,\n",
              " 38,\n",
              " 1543,\n",
              " 1905,\n",
              " 398,\n",
              " 4,\n",
              " 1649,\n",
              " 26,\n",
              " 6853,\n",
              " 5,\n",
              " 163,\n",
              " 11,\n",
              " 3215,\n",
              " 10156,\n",
              " 4,\n",
              " 1153,\n",
              " 9,\n",
              " 194,\n",
              " 775,\n",
              " 7,\n",
              " 8255,\n",
              " 11596,\n",
              " 349,\n",
              " 2637,\n",
              " 148,\n",
              " 605,\n",
              " 2,\n",
              " 8003,\n",
              " 15,\n",
              " 123,\n",
              " 125,\n",
              " 68,\n",
              " 2,\n",
              " 6853,\n",
              " 15,\n",
              " 349,\n",
              " 165,\n",
              " 4362,\n",
              " 98,\n",
              " 5,\n",
              " 4,\n",
              " 228,\n",
              " 9,\n",
              " 43,\n",
              " 2,\n",
              " 1157,\n",
              " 15,\n",
              " 299,\n",
              " 120,\n",
              " 5,\n",
              " 120,\n",
              " 174,\n",
              " 11,\n",
              " 220,\n",
              " 175,\n",
              " 136,\n",
              " 50,\n",
              " 9,\n",
              " 4373,\n",
              " 228,\n",
              " 8255,\n",
              " 5,\n",
              " 2,\n",
              " 656,\n",
              " 245,\n",
              " 2350,\n",
              " 5,\n",
              " 4,\n",
              " 9837,\n",
              " 131,\n",
              " 152,\n",
              " 491,\n",
              " 18,\n",
              " 2,\n",
              " 32,\n",
              " 7464,\n",
              " 1212,\n",
              " 14,\n",
              " 9,\n",
              " 6,\n",
              " 371,\n",
              " 78,\n",
              " 22,\n",
              " 625,\n",
              " 64,\n",
              " 1382,\n",
              " 9,\n",
              " 8,\n",
              " 168,\n",
              " 145,\n",
              " 23,\n",
              " 4,\n",
              " 1690,\n",
              " 15,\n",
              " 16,\n",
              " 4,\n",
              " 1355,\n",
              " 5,\n",
              " 28,\n",
              " 6,\n",
              " 52,\n",
              " 154,\n",
              " 462,\n",
              " 33,\n",
              " 89,\n",
              " 78,\n",
              " 285,\n",
              " 16,\n",
              " 145,\n",
              " 95]"
            ]
          },
          "metadata": {},
          "execution_count": 3
        }
      ]
    },
    {
      "cell_type": "markdown",
      "source": [
        "## Review Decoding"
      ],
      "metadata": {
        "id": "SjditNgC4Xzi"
      }
    },
    {
      "cell_type": "code",
      "source": [
        "# 라벨을 백업해서 벡터화한 이후 네트워크의 예측을 확인할 수 있다.\n",
        "xtrain = x_train\n",
        "xtest = x_test"
      ],
      "metadata": {
        "id": "pXq2gy6V4Tm_"
      },
      "execution_count": 4,
      "outputs": []
    },
    {
      "cell_type": "code",
      "source": [
        "word_index = imdb.get_word_index() # 단어 복원\n",
        "reverse_word_index = dict([(value, key) for (key, value) in\n",
        "                          word_index.items()]) # 저장소의 순서 역전"
      ],
      "metadata": {
        "id": "vdJKAv5c4fCQ"
      },
      "execution_count": 5,
      "outputs": []
    },
    {
      "cell_type": "code",
      "source": [
        "def decode_review(n, split='train'): # n: 데이터셋의 n번째 리뷰, 두번째 인자 : n번째 리뷰가 훈련/테스트 데이터?\n",
        "    if split == 'train':\n",
        "        decoded_review = ' '.join([reverse_word_index.get(i-3, '?') for i in xtrain[n]])\n",
        "    elif split == 'test' :\n",
        "        decoded_review = ' '.join([reverse_word_index.get(i-3, '?') for i in xtest[n]])\n",
        "    return decoded_review "
      ],
      "metadata": {
        "id": "5TTJzoLA46xb"
      },
      "execution_count": 6,
      "outputs": []
    },
    {
      "cell_type": "code",
      "source": [
        "print('Training label : ', y_train[5])\n",
        "decode_review(5, split='train')"
      ],
      "metadata": {
        "colab": {
          "base_uri": "https://localhost:8080/",
          "height": 71
        },
        "id": "DRDXNTzg58pj",
        "outputId": "bbe48f01-90f5-43f6-e744-6af01cc4db9f"
      },
      "execution_count": 7,
      "outputs": [
        {
          "output_type": "stream",
          "name": "stdout",
          "text": [
            "Training label :  0\n"
          ]
        },
        {
          "output_type": "execute_result",
          "data": {
            "text/plain": [
              "\"? begins better than it ends funny that the russian submarine crew ? all other actors it's like those scenes where documentary shots br br spoiler part the message ? was contrary to the whole story it just does not ? br br\""
            ],
            "application/vnd.google.colaboratory.intrinsic+json": {
              "type": "string"
            }
          },
          "metadata": {},
          "execution_count": 7
        }
      ]
    },
    {
      "cell_type": "code",
      "source": [
        "import numpy as np\n",
        "\n",
        "def vectorize_features(features):\n",
        "\n",
        "    # 단어 덩어리의 전체 단어 수를 정의\n",
        "    # shape(25000, 12000)의 빈 2차원 텐서를 생성\n",
        "    dimension = 12000\n",
        "    review_vectors = np.zeros((len(features), dimension))\n",
        "\n",
        "    # 각 리뷰에 대해 반복\n",
        "    # 빈 텐서의 인덱스는 1로 설정\n",
        "    for location, feature in enumerate(features):\n",
        "        review_vectors[location, feature]=1\n",
        "    return review_vectors\n",
        "\n",
        "x_train = vectorize_features(x_train)\n",
        "x_test = vectorize_features(x_test)\n"
      ],
      "metadata": {
        "id": "giVgeyH36eVt"
      },
      "execution_count": 8,
      "outputs": []
    },
    {
      "cell_type": "code",
      "source": [
        "type(x_train), x_train.shape, y_train.shape"
      ],
      "metadata": {
        "colab": {
          "base_uri": "https://localhost:8080/"
        },
        "id": "QgAmW1tw86th",
        "outputId": "d1ff7765-fcc0-454c-c3c5-ec7dc841a521"
      },
      "execution_count": 9,
      "outputs": [
        {
          "output_type": "execute_result",
          "data": {
            "text/plain": [
              "(numpy.ndarray, (25000, 12000), (25000,))"
            ]
          },
          "metadata": {},
          "execution_count": 9
        }
      ]
    },
    {
      "cell_type": "code",
      "source": [
        "x_train[0].shape, x_train[0]"
      ],
      "metadata": {
        "colab": {
          "base_uri": "https://localhost:8080/"
        },
        "id": "6CyK-WWc9Mz7",
        "outputId": "2948f2a7-d69f-4d38-f58f-f59c372baae0"
      },
      "execution_count": 10,
      "outputs": [
        {
          "output_type": "execute_result",
          "data": {
            "text/plain": [
              "((12000,), array([0., 1., 1., ..., 0., 0., 0.]))"
            ]
          },
          "metadata": {},
          "execution_count": 10
        }
      ]
    },
    {
      "cell_type": "code",
      "source": [
        "y_train = np.asarray(y_train).astype('float32')\n",
        "y_test = np.asarray(y_test).astype('float32')"
      ],
      "metadata": {
        "id": "xEhXbu6O9Qpc"
      },
      "execution_count": 11,
      "outputs": []
    },
    {
      "cell_type": "code",
      "source": [
        "from keras.models import Sequential\n",
        "from keras.layers import Dense\n",
        "model = Sequential()\n",
        "model.add(Dense(6, activation='relu', input_shape=(12000,)))\n",
        "model.add(Dense(6, activation='relu'))\n",
        "model.add(Dense(1, activation='sigmoid'))"
      ],
      "metadata": {
        "id": "kX1FNlv7_TQj"
      },
      "execution_count": 18,
      "outputs": []
    },
    {
      "cell_type": "code",
      "source": [
        "from keras import optimizers\n",
        "model.compile(optimizer='rmsprop',\n",
        "            loss = 'binary_crossentropy',\n",
        "            metrics=['accuracy'])"
      ],
      "metadata": {
        "id": "ViHGhCFMA0AE"
      },
      "execution_count": 29,
      "outputs": []
    },
    {
      "cell_type": "code",
      "source": [
        "network_metadata = model.fit(x_train, y_train,\n",
        "                             validation_data=(x_test, y_test),\n",
        "                             epochs=20,\n",
        "                             batch_size=100)"
      ],
      "metadata": {
        "colab": {
          "base_uri": "https://localhost:8080/"
        },
        "id": "2LxZKEbwCIJf",
        "outputId": "313e2457-339a-42d7-9888-4600d99a8a80"
      },
      "execution_count": 30,
      "outputs": [
        {
          "output_type": "stream",
          "name": "stdout",
          "text": [
            "Epoch 1/20\n",
            "250/250 [==============================] - 7s 22ms/step - loss: 0.3650 - accuracy: 0.8619 - val_loss: 0.2851 - val_accuracy: 0.8850\n",
            "Epoch 2/20\n",
            "250/250 [==============================] - 5s 18ms/step - loss: 0.2078 - accuracy: 0.9226 - val_loss: 0.2869 - val_accuracy: 0.8838\n",
            "Epoch 3/20\n",
            "250/250 [==============================] - 4s 18ms/step - loss: 0.1674 - accuracy: 0.9390 - val_loss: 0.3257 - val_accuracy: 0.8738\n",
            "Epoch 4/20\n",
            "250/250 [==============================] - 4s 18ms/step - loss: 0.1440 - accuracy: 0.9480 - val_loss: 0.3348 - val_accuracy: 0.8758\n",
            "Epoch 5/20\n",
            "250/250 [==============================] - 4s 18ms/step - loss: 0.1246 - accuracy: 0.9565 - val_loss: 0.4031 - val_accuracy: 0.8605\n",
            "Epoch 6/20\n",
            "250/250 [==============================] - 5s 18ms/step - loss: 0.1111 - accuracy: 0.9611 - val_loss: 0.4059 - val_accuracy: 0.8646\n",
            "Epoch 7/20\n",
            "250/250 [==============================] - 4s 18ms/step - loss: 0.0992 - accuracy: 0.9663 - val_loss: 0.4604 - val_accuracy: 0.8566\n",
            "Epoch 8/20\n",
            "250/250 [==============================] - 4s 17ms/step - loss: 0.0893 - accuracy: 0.9697 - val_loss: 0.4668 - val_accuracy: 0.8605\n",
            "Epoch 9/20\n",
            "250/250 [==============================] - 5s 18ms/step - loss: 0.0806 - accuracy: 0.9735 - val_loss: 0.5037 - val_accuracy: 0.8588\n",
            "Epoch 10/20\n",
            "250/250 [==============================] - 4s 18ms/step - loss: 0.0727 - accuracy: 0.9758 - val_loss: 0.5386 - val_accuracy: 0.8558\n",
            "Epoch 11/20\n",
            "250/250 [==============================] - 5s 18ms/step - loss: 0.0655 - accuracy: 0.9781 - val_loss: 0.5773 - val_accuracy: 0.8532\n",
            "Epoch 12/20\n",
            "250/250 [==============================] - 5s 18ms/step - loss: 0.0586 - accuracy: 0.9802 - val_loss: 0.6152 - val_accuracy: 0.8515\n",
            "Epoch 13/20\n",
            "250/250 [==============================] - 5s 18ms/step - loss: 0.0523 - accuracy: 0.9833 - val_loss: 0.6576 - val_accuracy: 0.8496\n",
            "Epoch 14/20\n",
            "250/250 [==============================] - 4s 18ms/step - loss: 0.0462 - accuracy: 0.9856 - val_loss: 0.7016 - val_accuracy: 0.8492\n",
            "Epoch 15/20\n",
            "250/250 [==============================] - 5s 20ms/step - loss: 0.0418 - accuracy: 0.9867 - val_loss: 0.7433 - val_accuracy: 0.8480\n",
            "Epoch 16/20\n",
            "250/250 [==============================] - 6s 23ms/step - loss: 0.0363 - accuracy: 0.9881 - val_loss: 0.7921 - val_accuracy: 0.8426\n",
            "Epoch 17/20\n",
            "250/250 [==============================] - 4s 18ms/step - loss: 0.0317 - accuracy: 0.9904 - val_loss: 0.8411 - val_accuracy: 0.8418\n",
            "Epoch 18/20\n",
            "250/250 [==============================] - 4s 18ms/step - loss: 0.0279 - accuracy: 0.9918 - val_loss: 0.8943 - val_accuracy: 0.8430\n",
            "Epoch 19/20\n",
            "250/250 [==============================] - 5s 20ms/step - loss: 0.0240 - accuracy: 0.9934 - val_loss: 0.9753 - val_accuracy: 0.8371\n",
            "Epoch 20/20\n",
            "250/250 [==============================] - 6s 23ms/step - loss: 0.0211 - accuracy: 0.9942 - val_loss: 1.0155 - val_accuracy: 0.8374\n"
          ]
        }
      ]
    },
    {
      "cell_type": "code",
      "source": [
        "early_stopping = keras.callbacks.EarlyStopping(monitor='val_loss')\n",
        "network_metadata = model.fit(x_train, y_train,\n",
        "                             validation_data=(x_test, y_test),\n",
        "                             epochs=20,\n",
        "                             batch_size=100,\n",
        "                             callbacks=[early_stopping])"
      ],
      "metadata": {
        "colab": {
          "base_uri": "https://localhost:8080/"
        },
        "id": "2hgHwctFIktX",
        "outputId": "8680acfe-80d5-4fad-fb5c-3eecd4152931"
      },
      "execution_count": 39,
      "outputs": [
        {
          "output_type": "stream",
          "name": "stdout",
          "text": [
            "Epoch 1/20\n",
            "250/250 [==============================] - 6s 23ms/step - loss: 0.0130 - accuracy: 0.9964 - val_loss: 1.2245 - val_accuracy: 0.8366\n",
            "Epoch 2/20\n",
            "250/250 [==============================] - 4s 18ms/step - loss: 0.0114 - accuracy: 0.9972 - val_loss: 1.2963 - val_accuracy: 0.8362\n"
          ]
        }
      ]
    },
    {
      "cell_type": "code",
      "source": [
        "history_dict = network_metadata.history\n",
        "history_dict.keys()"
      ],
      "metadata": {
        "colab": {
          "base_uri": "https://localhost:8080/"
        },
        "id": "T2chlApKKMDQ",
        "outputId": "1a960a6b-ccb4-4c55-f0ca-31051535fab1"
      },
      "execution_count": 40,
      "outputs": [
        {
          "output_type": "execute_result",
          "data": {
            "text/plain": [
              "dict_keys(['loss', 'accuracy', 'val_loss', 'val_accuracy'])"
            ]
          },
          "metadata": {},
          "execution_count": 40
        }
      ]
    },
    {
      "cell_type": "code",
      "source": [
        "import matplotlib.pyplot as plt\n",
        "\n",
        "plt.clf()\n",
        "\n",
        "acc_values = history_dict['accuracy']\n",
        "val_acc_values = history_dict['val_accuracy']\n",
        "epochs = range(1, len(acc_values) + 1)\n",
        "\n",
        "plt.plot(epochs, history_dict.get('accuracy'), 'g', label='Training acc')\n",
        "plt.plot(epochs, history_dict.get('val_accuracy'), 'gD', label='Validation acc')\n",
        "plt.title('Training and validation accuracy')\n",
        "plt.xlabel('Epochs')\n",
        "plt.ylabel('Loss')\n",
        "plt.legend()\n",
        "plt.show()"
      ],
      "metadata": {
        "colab": {
          "base_uri": "https://localhost:8080/",
          "height": 295
        },
        "id": "ya9_FigEKqaX",
        "outputId": "bfd22e51-f0a9-4fb9-c9b8-8204b7cd9dca"
      },
      "execution_count": 41,
      "outputs": [
        {
          "output_type": "display_data",
          "data": {
            "text/plain": [
              "<Figure size 432x288 with 1 Axes>"
            ],
            "image/png": "[encoded data removed]"
          },
          "metadata": {
            "needs_background": "light"
          }
        }
      ]
    },
    {
      "cell_type": "code",
      "source": [
        "predictions = model.predict([x_test])\n",
        "predictions[5]"
      ],
      "metadata": {
        "colab": {
          "base_uri": "https://localhost:8080/"
        },
        "id": "6YnJn6psL__c",
        "outputId": "852c153f-9d69-408c-8a73-2a7d23e9e8c7"
      },
      "execution_count": 42,
      "outputs": [
        {
          "output_type": "execute_result",
          "data": {
            "text/plain": [
              "array([0.9999963], dtype=float32)"
            ]
          },
          "metadata": {},
          "execution_count": 42
        }
      ]
    },
    {
      "cell_type": "code",
      "source": [
        "y_test[5], decode_review(5, split='test')"
      ],
      "metadata": {
        "colab": {
          "base_uri": "https://localhost:8080/"
        },
        "id": "79B8iRWENTCW",
        "outputId": "28fde988-3407-4d98-ac0c-d883a1545dc7"
      },
      "execution_count": 43,
      "outputs": [
        {
          "output_type": "execute_result",
          "data": {
            "text/plain": [
              "(1.0,\n",
              " \"? i'm absolutely disgusted this movie isn't being sold all who love this movie should email disney and increase the demand for it they'd eventually have to sell it then i'd buy copies for everybody i know everything and everybody in this movie did a good job and i haven't figured out why disney hasn't put this movie on dvd or on vhs in rental stores at least i haven't seen any copies this is a wicked good movie and should be seen by all the kids in the new generation don't get to see it and i think they should it should at least be put back on the channel this movie doesn't deserve a cheap download it deserves the real thing i'm them now this movie will be on dvd\")"
            ]
          },
          "metadata": {},
          "execution_count": 43
        }
      ]
    },
    {
      "cell_type": "code",
      "source": [
        "def gauge_predictions(n):\n",
        "    if (predictions[n] <= 0.4) and (y_test[n] == 0):\n",
        "        print('Network correctly predicts that review %d is negative' % (n))\n",
        "    elif (predictions[n] <= 0.4) and (y_test[n] == 1):\n",
        "        print('Network falsely predicts that review %d is negative' % (n))\n",
        "    elif (predictions[n] >= 0.7) and (y_test[n] == 1):\n",
        "        print('Network correctly predicts that review %d is positive' % (n))\n",
        "    elif (predictions[n] >= 0.7) and (y_test[n] == 0):\n",
        "        print('Network falsely predicts that review %d is positive' % (n))\n",
        "    else:\n",
        "        print('Network is not sure. Review no.%d has a probability score of' %(n),\n",
        "              predictions[n])\n",
        "\n",
        "def verify_predictions(n):\n",
        "    return gauge_predictions(n), predictions[n], decode_review(n, split='test')\n",
        "            "
      ],
      "metadata": {
        "id": "pUpzlpCyNbJF"
      },
      "execution_count": 45,
      "outputs": []
    },
    {
      "cell_type": "code",
      "source": [
        "verify_predictions(22)"
      ],
      "metadata": {
        "colab": {
          "base_uri": "https://localhost:8080/"
        },
        "id": "UICJc7gGO8lr",
        "outputId": "8a9a762a-cadd-4b83-ec4c-f4c13b215b20"
      },
      "execution_count": 46,
      "outputs": [
        {
          "output_type": "stream",
          "name": "stdout",
          "text": [
            "Network falsely predicts that review 22 is negative\n"
          ]
        },
        {
          "output_type": "execute_result",
          "data": {
            "text/plain": [
              "(None,\n",
              " array([0.00015098], dtype=float32),\n",
              " \"? how managed to avoid attention remains a mystery a potent mix of comedy and crime this one takes chances where tarantino plays it safe with the hollywood formula the risks don't always pay off one character in one sequence comes off ? silly and falls flat in the lead role thomas jane gives a wonderful and complex performance and two brief appearances by mickey rourke hint at the high potential of this much under and mis used actor here's a director one should keep one's eye on\")"
            ]
          },
          "metadata": {},
          "execution_count": 46
        }
      ]
    },
    {
      "cell_type": "code",
      "source": [
        "verify_predictions(19999)"
      ],
      "metadata": {
        "colab": {
          "base_uri": "https://localhost:8080/"
        },
        "id": "pKMdA4f5PHYC",
        "outputId": "57fe05cb-e7a7-4b26-810b-2960dd81f002"
      },
      "execution_count": 47,
      "outputs": [
        {
          "output_type": "stream",
          "name": "stdout",
          "text": [
            "Network correctly predicts that review 19999 is positive\n"
          ]
        },
        {
          "output_type": "execute_result",
          "data": {
            "text/plain": [
              "(None,\n",
              " array([0.81936705], dtype=float32),\n",
              " \"? this movies is really special it's about a young french who go in ? spain in order to study and in he meets other ? like him this film he's the european movies of the year so go watch it\")"
            ]
          },
          "metadata": {},
          "execution_count": 47
        }
      ]
    },
    {
      "cell_type": "markdown",
      "source": [
        "## 입력한 개수만큼의 리뷰를 무작위로 선택해서 결과를 예측"
      ],
      "metadata": {
        "id": "zTQcGUS1PfUh"
      }
    },
    {
      "cell_type": "code",
      "source": [
        "from random import randint\n",
        "\n",
        "def random_predict(n_reviews):\n",
        "    for i in range(n_reviews):\n",
        "        print(verify_predictions(randint(0, 24000)))\n",
        "\n",
        "random_predict(2)"
      ],
      "metadata": {
        "colab": {
          "base_uri": "https://localhost:8080/"
        },
        "id": "9tvJLEMwPRAV",
        "outputId": "b8d31b3a-329c-4248-816f-0c6c8ff6a2f8"
      },
      "execution_count": 48,
      "outputs": [
        {
          "output_type": "stream",
          "name": "stdout",
          "text": [
            "Network correctly predicts that review 11648 is negative\n",
            "(None, array([3.0892435e-05], dtype=float32), \"? there is nothing in this that the viewer could point to and call good the acting was dull and ? the sets and cinematography look like they were developed by someone grew up in a ? and tried to make the perfect gap commercial characters have no drive motivation or reason for us to care about them there's such a lack of interest and tension that it's hard to follow the banal action and dialog and the plot if anyone finds it i'm sure it would be as boring as everything else br br this isn't funny it's not romantic it doesn't reflect on the human condition if you want a good ? comedy watch half baked if you want a good ? drama watch ? the only reason i gave this 2 stars instead of one is because it's kind of fun seeing some familiar faces in the mid late 90's cast which is a shallow reason to give the film even one star but then again this is a shallow movie\")\n",
            "Network correctly predicts that review 5352 is positive\n",
            "(None, array([1.], dtype=float32), \"? ? is a man that makes a living out of ? other solid citizens of their hard earned money together with ? an older man with a lot of experience he pulls out ? that allow him to make a decent living but that is not making him a rich man by any means enter ? an older man who is more experience in the art of deception together with the younger ? they prove a winning combination that only lasts until ? former love interest appears in the picture br br this spanish film directed by ? ? is light in tone and pleasant to sit through other better made caper films have been made with much clever plots than this one but the film is easy to take and at times it has a lot of funny situations br br this viewer will see ? in anything even reading the telephone ? he is an actor's actor we have had the privilege of having seen him in the ? ? stage doing excellent work before his international film career as ? he does what he does best it's impossible to imagine anyone better in his role ? ? the son of hector ? is a young actor who promises to have a great career victoria ? makes ? fun as she gets involved with these con men ? alexandre a veteran actor is also good as ?\")\n"
          ]
        }
      ]
    }
  ]
}