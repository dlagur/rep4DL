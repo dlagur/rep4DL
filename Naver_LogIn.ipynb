{
  "nbformat": 4,
  "nbformat_minor": 0,
  "metadata": {
    "colab": {
      "name": "Naver_LogIn.ipynb",
      "provenance": [],
      "authorship_tag": "ABX9TyNHMscTaRO8IGQadhAlzgT+",
      "include_colab_link": true
    },
    "kernelspec": {
      "name": "python3",
      "display_name": "Python 3"
    },
    "language_info": {
      "name": "python"
    }
  },
  "cells": [
    {
      "cell_type": "markdown",
      "metadata": {
        "id": "view-in-github",
        "colab_type": "text"
      },
      "source": [
        "<a href=\"https://colab.research.google.com/github/dlagur/rep4DL/blob/main/Naver_LogIn.ipynb\" target=\"_parent\"><img src=\"https://colab.research.google.com/assets/colab-badge.svg\" alt=\"Open In Colab\"/></a>"
      ]
    },
    {
      "cell_type": "code",
      "source": [
        "!pip install selenium\n",
        "!apt-get update\n",
        "!apt install chromium-chromedriver\n",
        "!cp /usr/lib/chromium-browser/chromedriver /usr/bin"
      ],
      "metadata": {
        "colab": {
          "base_uri": "https://localhost:8080/"
        },
        "id": "KVaDiGwYXA8g",
        "outputId": "ca764871-1e6b-488d-bc16-b6a349e93f54"
      },
      "execution_count": 37,
      "outputs": [
        {
          "output_type": "stream",
          "name": "stdout",
          "text": [
            "Looking in indexes: https://pypi.org/simple, https://us-python.pkg.dev/colab-wheels/public/simple/\n",
            "Requirement already satisfied: selenium in /usr/local/lib/python3.7/dist-packages (4.3.0)\n",
            "Requirement already satisfied: trio-websocket~=0.9 in /usr/local/lib/python3.7/dist-packages (from selenium) (0.9.2)\n",
            "Requirement already satisfied: trio~=0.17 in /usr/local/lib/python3.7/dist-packages (from selenium) (0.21.0)\n",
            "Requirement already satisfied: urllib3[secure,socks]~=1.26 in /usr/local/lib/python3.7/dist-packages (from selenium) (1.26.9)\n",
            "Requirement already satisfied: idna in /usr/local/lib/python3.7/dist-packages (from trio~=0.17->selenium) (2.10)\n",
            "Requirement already satisfied: outcome in /usr/local/lib/python3.7/dist-packages (from trio~=0.17->selenium) (1.2.0)\n",
            "Requirement already satisfied: sniffio in /usr/local/lib/python3.7/dist-packages (from trio~=0.17->selenium) (1.2.0)\n",
            "Requirement already satisfied: async-generator>=1.9 in /usr/local/lib/python3.7/dist-packages (from trio~=0.17->selenium) (1.10)\n",
            "Requirement already satisfied: attrs>=19.2.0 in /usr/local/lib/python3.7/dist-packages (from trio~=0.17->selenium) (21.4.0)\n",
            "Requirement already satisfied: sortedcontainers in /usr/local/lib/python3.7/dist-packages (from trio~=0.17->selenium) (2.4.0)\n",
            "Requirement already satisfied: wsproto>=0.14 in /usr/local/lib/python3.7/dist-packages (from trio-websocket~=0.9->selenium) (1.1.0)\n",
            "Requirement already satisfied: PySocks!=1.5.7,<2.0,>=1.5.6 in /usr/local/lib/python3.7/dist-packages (from urllib3[secure,socks]~=1.26->selenium) (1.7.1)\n",
            "Requirement already satisfied: pyOpenSSL>=0.14 in /usr/local/lib/python3.7/dist-packages (from urllib3[secure,socks]~=1.26->selenium) (22.0.0)\n",
            "Requirement already satisfied: cryptography>=1.3.4 in /usr/local/lib/python3.7/dist-packages (from urllib3[secure,socks]~=1.26->selenium) (37.0.4)\n",
            "Requirement already satisfied: certifi in /usr/local/lib/python3.7/dist-packages (from urllib3[secure,socks]~=1.26->selenium) (2022.6.15)\n",
            "Requirement already satisfied: cffi>=1.12 in /usr/local/lib/python3.7/dist-packages (from cryptography>=1.3.4->urllib3[secure,socks]~=1.26->selenium) (1.15.0)\n",
            "Requirement already satisfied: pycparser in /usr/local/lib/python3.7/dist-packages (from cffi>=1.12->cryptography>=1.3.4->urllib3[secure,socks]~=1.26->selenium) (2.21)\n",
            "Requirement already satisfied: h11<1,>=0.9.0 in /usr/local/lib/python3.7/dist-packages (from wsproto>=0.14->trio-websocket~=0.9->selenium) (0.13.0)\n",
            "Requirement already satisfied: typing-extensions in /usr/local/lib/python3.7/dist-packages (from h11<1,>=0.9.0->wsproto>=0.14->trio-websocket~=0.9->selenium) (4.1.1)\n",
            "Hit:1 https://developer.download.nvidia.com/compute/cuda/repos/ubuntu1804/x86_64  InRelease\n",
            "Hit:2 https://cloud.r-project.org/bin/linux/ubuntu bionic-cran40/ InRelease\n",
            "Ign:3 https://developer.download.nvidia.com/compute/machine-learning/repos/ubuntu1804/x86_64  InRelease\n",
            "Hit:4 https://developer.download.nvidia.com/compute/machine-learning/repos/ubuntu1804/x86_64  Release\n",
            "Hit:5 http://ppa.launchpad.net/c2d4u.team/c2d4u4.0+/ubuntu bionic InRelease\n",
            "Get:6 http://security.ubuntu.com/ubuntu bionic-security InRelease [88.7 kB]\n",
            "Hit:7 http://archive.ubuntu.com/ubuntu bionic InRelease\n",
            "Get:8 http://archive.ubuntu.com/ubuntu bionic-updates InRelease [88.7 kB]\n",
            "Hit:9 http://ppa.launchpad.net/cran/libgit2/ubuntu bionic InRelease\n",
            "Get:10 http://archive.ubuntu.com/ubuntu bionic-backports InRelease [74.6 kB]\n",
            "Hit:12 http://ppa.launchpad.net/deadsnakes/ppa/ubuntu bionic InRelease\n",
            "Hit:13 http://ppa.launchpad.net/graphics-drivers/ppa/ubuntu bionic InRelease\n",
            "Fetched 252 kB in 2s (107 kB/s)\n",
            "Reading package lists... Done\n",
            "Reading package lists... Done\n",
            "Building dependency tree       \n",
            "Reading state information... Done\n",
            "chromium-chromedriver is already the newest version (101.0.4951.64-0ubuntu0.18.04.1).\n",
            "The following package was automatically installed and is no longer required:\n",
            "  libnvidia-common-460\n",
            "Use 'apt autoremove' to remove it.\n",
            "0 upgraded, 0 newly installed, 0 to remove and 66 not upgraded.\n",
            "cp: '/usr/lib/chromium-browser/chromedriver' and '/usr/bin/chromedriver' are the same file\n"
          ]
        }
      ]
    },
    {
      "cell_type": "code",
      "source": [
        "!pip install pyperclip"
      ],
      "metadata": {
        "colab": {
          "base_uri": "https://localhost:8080/"
        },
        "id": "3lCLDMLaXgY_",
        "outputId": "6f69eb04-c5b6-496c-e792-2f9c86e3a3f7"
      },
      "execution_count": 38,
      "outputs": [
        {
          "output_type": "stream",
          "name": "stdout",
          "text": [
            "Looking in indexes: https://pypi.org/simple, https://us-python.pkg.dev/colab-wheels/public/simple/\n",
            "Requirement already satisfied: pyperclip in /usr/local/lib/python3.7/dist-packages (1.8.2)\n"
          ]
        }
      ]
    },
    {
      "cell_type": "code",
      "execution_count": 39,
      "metadata": {
        "id": "cBOXLKqqWwCf"
      },
      "outputs": [],
      "source": [
        "from selenium import webdriver\n",
        "from selenium.webdriver.common.keys import Keys\n",
        "import time\n",
        "import pyperclip"
      ]
    },
    {
      "cell_type": "code",
      "source": [
        "options = webdriver.ChromeOptions()\n",
        "options.add_argument('--headless')        # Head-less 설정\n",
        "options.add_argument('--no-sandbox')\n",
        "options.add_argument('--disable-dev-shm-usage')\n",
        "\n",
        "driver = webdriver.Chrome('chromedriver', options=options)\n",
        "\n",
        "# 사용할 변수 선언\n",
        "# 네이버 로그인 주소\n",
        "url = 'https://nid.naver.com/nidlogin.login?mode=form&url=https%3A%2F%2Fwww.naver.com'\n",
        "uid = 'limhyuk01'\n",
        "upw = 'ejlove0418'\n",
        "\n",
        "# 네이버 로그인 페이지로 이동\n",
        "driver.get(url)\n",
        "time.sleep(2) # 로딩 대기\n",
        "\n",
        "# 아이디 입력폼\n",
        "driver.find_element('name','id').send_keys(uid)\n",
        "time.sleep(2)\n",
        "# 패스워드 입력폼\n",
        "driver.find_element('name', 'pw').send_keys(upw)\n",
        "time.sleep(2)\n",
        "\n",
        "# 로그인 버튼 클릭\n",
        "driver.find_element('xpath', '//*[@id=\"log.login\"]').click()"
      ],
      "metadata": {
        "id": "lnBzPYebW9g7"
      },
      "execution_count": 93,
      "outputs": []
    },
    {
      "cell_type": "markdown",
      "source": [
        "## 19세 연령 제한이 걸려있는 도서가 포함된 베스트셀러 목록 크롤링하기"
      ],
      "metadata": {
        "id": "-kHUytARewbb"
      }
    },
    {
      "cell_type": "code",
      "source": [
        "!pip install selenium webdriver-manager beautifulsoup4"
      ],
      "metadata": {
        "colab": {
          "base_uri": "https://localhost:8080/"
        },
        "id": "bTpwI0uifTTK",
        "outputId": "aad5a71d-bb37-4a46-9a2a-3ddd246da64a"
      },
      "execution_count": 41,
      "outputs": [
        {
          "output_type": "stream",
          "name": "stdout",
          "text": [
            "Looking in indexes: https://pypi.org/simple, https://us-python.pkg.dev/colab-wheels/public/simple/\n",
            "Requirement already satisfied: selenium in /usr/local/lib/python3.7/dist-packages (4.3.0)\n",
            "Requirement already satisfied: webdriver-manager in /usr/local/lib/python3.7/dist-packages (3.8.0)\n",
            "Requirement already satisfied: beautifulsoup4 in /usr/local/lib/python3.7/dist-packages (4.6.3)\n",
            "Requirement already satisfied: trio-websocket~=0.9 in /usr/local/lib/python3.7/dist-packages (from selenium) (0.9.2)\n",
            "Requirement already satisfied: urllib3[secure,socks]~=1.26 in /usr/local/lib/python3.7/dist-packages (from selenium) (1.26.9)\n",
            "Requirement already satisfied: trio~=0.17 in /usr/local/lib/python3.7/dist-packages (from selenium) (0.21.0)\n",
            "Requirement already satisfied: sortedcontainers in /usr/local/lib/python3.7/dist-packages (from trio~=0.17->selenium) (2.4.0)\n",
            "Requirement already satisfied: attrs>=19.2.0 in /usr/local/lib/python3.7/dist-packages (from trio~=0.17->selenium) (21.4.0)\n",
            "Requirement already satisfied: async-generator>=1.9 in /usr/local/lib/python3.7/dist-packages (from trio~=0.17->selenium) (1.10)\n",
            "Requirement already satisfied: sniffio in /usr/local/lib/python3.7/dist-packages (from trio~=0.17->selenium) (1.2.0)\n",
            "Requirement already satisfied: outcome in /usr/local/lib/python3.7/dist-packages (from trio~=0.17->selenium) (1.2.0)\n",
            "Requirement already satisfied: idna in /usr/local/lib/python3.7/dist-packages (from trio~=0.17->selenium) (2.10)\n",
            "Requirement already satisfied: wsproto>=0.14 in /usr/local/lib/python3.7/dist-packages (from trio-websocket~=0.9->selenium) (1.1.0)\n",
            "Requirement already satisfied: certifi in /usr/local/lib/python3.7/dist-packages (from urllib3[secure,socks]~=1.26->selenium) (2022.6.15)\n",
            "Requirement already satisfied: pyOpenSSL>=0.14 in /usr/local/lib/python3.7/dist-packages (from urllib3[secure,socks]~=1.26->selenium) (22.0.0)\n",
            "Requirement already satisfied: cryptography>=1.3.4 in /usr/local/lib/python3.7/dist-packages (from urllib3[secure,socks]~=1.26->selenium) (37.0.4)\n",
            "Requirement already satisfied: PySocks!=1.5.7,<2.0,>=1.5.6 in /usr/local/lib/python3.7/dist-packages (from urllib3[secure,socks]~=1.26->selenium) (1.7.1)\n",
            "Requirement already satisfied: cffi>=1.12 in /usr/local/lib/python3.7/dist-packages (from cryptography>=1.3.4->urllib3[secure,socks]~=1.26->selenium) (1.15.0)\n",
            "Requirement already satisfied: pycparser in /usr/local/lib/python3.7/dist-packages (from cffi>=1.12->cryptography>=1.3.4->urllib3[secure,socks]~=1.26->selenium) (2.21)\n",
            "Requirement already satisfied: h11<1,>=0.9.0 in /usr/local/lib/python3.7/dist-packages (from wsproto>=0.14->trio-websocket~=0.9->selenium) (0.13.0)\n",
            "Requirement already satisfied: typing-extensions in /usr/local/lib/python3.7/dist-packages (from h11<1,>=0.9.0->wsproto>=0.14->trio-websocket~=0.9->selenium) (4.1.1)\n",
            "Requirement already satisfied: requests in /usr/local/lib/python3.7/dist-packages (from webdriver-manager) (2.28.1)\n",
            "Requirement already satisfied: pybrowsers in /usr/local/lib/python3.7/dist-packages (from webdriver-manager) (0.4.1)\n",
            "Requirement already satisfied: python-dotenv in /usr/local/lib/python3.7/dist-packages (from webdriver-manager) (0.20.0)\n",
            "Requirement already satisfied: pyxdg<0.28,>=0.27 in /usr/local/lib/python3.7/dist-packages (from pybrowsers->webdriver-manager) (0.27)\n",
            "Requirement already satisfied: charset-normalizer<3,>=2 in /usr/local/lib/python3.7/dist-packages (from requests->webdriver-manager) (2.0.12)\n"
          ]
        }
      ]
    },
    {
      "cell_type": "code",
      "source": [
        "from urllib.request import urlopen\n",
        "from bs4 import BeautifulSoup\n",
        "from urllib.parse import quote_plus\n",
        "from selenium.webdriver.common.keys import Keys\n",
        "\n",
        "options = webdriver.ChromeOptions()\n",
        "options.add_argument('--headless')        # Head-less 설정\n",
        "options.add_argument('--no-sandbox')\n",
        "options.add_argument('--disable-dev-shm-usage')\n",
        "\n",
        "driver = webdriver.Chrome('chromedriver', options=options)\n",
        "\n",
        "# 사용할 변수 선언\n",
        "# 네이버 로그인 주소\n",
        "url = 'https://nid.naver.com/nidlogin.login?mode=form&url=https%3A%2F%2Fbook.naver.com/bestsell/bestseller_list.naver'\n",
        "#uid = 'limhyuk01'\n",
        "#upw = 'ejlove041'\n",
        "\n",
        "# 네이버 로그인 페이지로 이동\n",
        "driver.get(url)\n",
        "time.sleep(2) # 로딩 대기\n",
        "\n",
        "# 아이디 입력폼\n",
        "#driver.find_element('name','id').send_keys(uid)\n",
        "#time.sleep(2)\n",
        "# 패스워드 입력폼\n",
        "#driver.find_element('name', 'pw').send_keys(upw)\n",
        "#time.sleep(2)\n",
        "\n",
        "# 로그인 버튼 클릭\n",
        "driver.find_element('xpath', '//*[@id=\"log.login\"]').click()\n",
        "\n",
        "url = \"https://book.naver.com/bestsell/bestseller_list.naver\"\n",
        "\n",
        "# driver = webdriver.Chrome('chromedriver', options=options)\n",
        "driver.implicitly_wait(30)\n",
        "\n",
        "\n",
        "# 네이버의 베스트셀러 웹페이지를 가져옵니다.\n",
        "driver.get(url)\n",
        "bsObject = BeautifulSoup(driver.page_source,  'html.parser')\n",
        "\n",
        "\n",
        "# 책의 상세 웹페이지 주소를 추출하여 리스트에 저장\n",
        "book_page_urls = []\n",
        "for index in range(0, 25):\n",
        "    dl_data = bsObject.find('dt', {'id':'book_title_'+ str(index)})\n",
        "    link = dl_data.select('a')[0].get('href')\n",
        "    book_page_urls.append(link)\n",
        "\n",
        "# 메타 정보와 본문에서 필요한 정보를 추출\n",
        "try:\n",
        "    for index, book_page_url in enumerate(book_page_urls):\n",
        "\n",
        "        driver.get(book_page_url)\n",
        "        bsObject = BeautifulSoup(driver.page_source, 'html.parser')\n",
        "\n",
        "        title = bsObject.find('meta', {'property':'og:title'}).get('content')\n",
        "        author = bsObject.find('dt', text = \"저자\").find_next_siblings('dd')[0].text.strip()\n",
        "        image = bsObject.find('meta', {'property':'og:image'}).get('content')\n",
        "        # url = bsObject.find('meta', {'property':'og:url'}).get('content')\n",
        "\n",
        "        dd = bsObject.find('dt', text = '가격').find_next_siblings('dd')[0]\n",
        "        salePrice = dd.select('div.lowest strong')[0].text\n",
        "        originalPrice = dd.select('div.lowest span.price')[0].text\n",
        "        \n",
        "        print(index+1, title, author, image, originalPrice, salePrice)\n",
        "except AttributeError:\n",
        "    driver.find_element('xpath', '//*[@id=\"log.login\"]').click()\n",
        "\n",
        "   \n",
        "    driver.get(book_page_url)\n",
        "    bsObject = BeautifulSoup(driver.page_source,  'html.parser')\n",
        "\n",
        "        \n",
        "    title = bsObject.find('meta', {'property':'og:title'}).get('content')\n",
        "    author = bsObject.find('dt', text = \"저자\").find_next_siblings('dd')[0].text.strip()\n",
        "    image = bsObject.find('meta', {'property':'og:image'}).get('content')\n",
        "    url = bsObject.find('meta', {'property':'og:url'}).get('content')\n",
        "\n",
        "    dd = bsObject.find('dt', text = '가격').find_next_siblings('dd')[0]\n",
        "    salePrice = dd.select('div.lowest strong')[0].text\n",
        "    originalPrice = dd.select('div.lowest span.price')[0].text\n",
        "\n",
        "    print(22, title, author, image, originalPrice, salePrice)"
      ],
      "metadata": {
        "colab": {
          "base_uri": "https://localhost:8080/",
          "height": 800
        },
        "id": "QMGY2kP9fVE5",
        "outputId": "0b8dd4d6-36c5-4b3c-f245-9e70d25fef58"
      },
      "execution_count": 98,
      "outputs": [
        {
          "output_type": "stream",
          "name": "stdout",
          "text": [
            "1 역행자 자청 https://bookthumb-phinf.pstatic.net/cover/224/859/22485918.jpg?type=m5 17,500원 15,750원\n",
            "2 불편한 편의점 김호연 https://bookthumb-phinf.pstatic.net/cover/189/260/18926010.jpg?type=m5 14,000원 12,600원\n",
            "3 작별인사 김영하 https://bookthumb-phinf.pstatic.net/cover/223/538/22353804.jpg?type=m5 14,000원 12,600원\n",
            "4 도쿄 에일리언즈 3 Naoe https://bookthumb-phinf.pstatic.net/cover/225/598/22559830.jpg?type=m5 5,000원 4,500원\n",
            "5 이상한 과자 가게 전천당 15 히로시마 레이코 지음, 쟈쟈 그림, 김정화 https://bookthumb-phinf.pstatic.net/cover/225/666/22566611.jpg?type=m5 13,000원 11,700원\n",
            "6 인플레이션에서 살아남기 오건영 https://bookthumb-phinf.pstatic.net/cover/224/583/22458391.jpg?type=m5 18,800원 16,920원\n",
            "7 기분을 관리하면 인생이 관리된다 김다슬 https://bookthumb-phinf.pstatic.net/cover/223/178/22317823.jpg?type=m5 17,600원 15,840원\n",
            "8 ETS 토익 정기시험 기출문제집 1000 Vol. 3 READING ETS https://bookthumb-phinf.pstatic.net/cover/213/449/21344926.jpg?type=m5 17,800원 16,020원\n",
            "9 유럽도시기행 2 유시민 https://bookthumb-phinf.pstatic.net/cover/225/462/22546260.jpg?type=m5 17,500원 15,750원\n",
            "10 큰별쌤 최태성의 별별한국사 한국사능력검정시험 심화(1, 2, 3급)상 최태성 https://bookthumb-phinf.pstatic.net/cover/213/531/21353131.jpg?type=m5 15,000원 13,500원\n",
            "11 해커스 토익 기출 보카 TOEIC VOCA 단어 David Cho https://bookthumb-phinf.pstatic.net/cover/143/426/14342664.jpg?type=m5 12,900원 11,610원\n",
            "12 ETS 토익 정기시험 기출문제집 1000 Vol. 3 LISTENING ETS https://bookthumb-phinf.pstatic.net/cover/213/449/21344924.jpg?type=m5 17,800원 16,020원\n",
            "13 눈물 한 방울 이어령 https://bookthumb-phinf.pstatic.net/cover/225/462/22546247.jpg?type=m5 15,800원 14,220원\n",
            "14 어서 오세요, 휴남동 서점입니다 황보름 https://bookthumb-phinf.pstatic.net/cover/214/141/21414116.jpg?type=m5 15,000원 13,500원\n",
            "15 큰별쌤 최태성의 별별한국사 한국사능력검정시험 심화(1, 2, 3급)하 최태성 https://bookthumb-phinf.pstatic.net/cover/213/531/21353132.jpg?type=m5 14,500원 13,050원\n",
            "16 흔한남매 과학 탐험대 5 흔한남매, 이현진, 닥터 스코 https://bookthumb-phinf.pstatic.net/cover/225/237/22523707.jpg?type=m5 14,000원 12,600원\n",
            "17 원피스 102 Eiichiro Oda https://bookthumb-phinf.pstatic.net/cover/225/453/22545323.jpg?type=m5 5,500원 4,950원\n",
            "18 세상의 마지막 기차역 무라세 다케시 https://bookthumb-phinf.pstatic.net/cover/224/529/22452981.jpg?type=m5 14,000원 12,600원\n",
            "19 영어독립 365 영어독립단어 콘텐츠팀, 신미주 https://bookthumb-phinf.pstatic.net/cover/225/457/22545748.jpg?type=m5 25,000원 22,500원\n",
            "20 에그박사 7 에그박사, 박송이 https://bookthumb-phinf.pstatic.net/cover/225/490/22549019.jpg?type=m5 14,500원 13,050원\n",
            "21 친밀한 이방인 정한아 https://bookthumb-phinf.pstatic.net/cover/126/301/12630178.jpg?type=m5 13,000원 11,700원\n"
          ]
        },
        {
          "output_type": "error",
          "ename": "AttributeError",
          "evalue": "ignored",
          "traceback": [
            "\u001b[0;31m---------------------------------------------------------------------------\u001b[0m",
            "\u001b[0;31mAttributeError\u001b[0m                            Traceback (most recent call last)",
            "\u001b[0;32m<ipython-input-98-eddf4f8676db>\u001b[0m in \u001b[0;36m<module>\u001b[0;34m()\u001b[0m\n\u001b[1;32m     58\u001b[0m         \u001b[0mtitle\u001b[0m \u001b[0;34m=\u001b[0m \u001b[0mbsObject\u001b[0m\u001b[0;34m.\u001b[0m\u001b[0mfind\u001b[0m\u001b[0;34m(\u001b[0m\u001b[0;34m'meta'\u001b[0m\u001b[0;34m,\u001b[0m \u001b[0;34m{\u001b[0m\u001b[0;34m'property'\u001b[0m\u001b[0;34m:\u001b[0m\u001b[0;34m'og:title'\u001b[0m\u001b[0;34m}\u001b[0m\u001b[0;34m)\u001b[0m\u001b[0;34m.\u001b[0m\u001b[0mget\u001b[0m\u001b[0;34m(\u001b[0m\u001b[0;34m'content'\u001b[0m\u001b[0;34m)\u001b[0m\u001b[0;34m\u001b[0m\u001b[0;34m\u001b[0m\u001b[0m\n\u001b[0;32m---> 59\u001b[0;31m         \u001b[0mauthor\u001b[0m \u001b[0;34m=\u001b[0m \u001b[0mbsObject\u001b[0m\u001b[0;34m.\u001b[0m\u001b[0mfind\u001b[0m\u001b[0;34m(\u001b[0m\u001b[0;34m'dt'\u001b[0m\u001b[0;34m,\u001b[0m \u001b[0mtext\u001b[0m \u001b[0;34m=\u001b[0m \u001b[0;34m\"저자\"\u001b[0m\u001b[0;34m)\u001b[0m\u001b[0;34m.\u001b[0m\u001b[0mfind_next_siblings\u001b[0m\u001b[0;34m(\u001b[0m\u001b[0;34m'dd'\u001b[0m\u001b[0;34m)\u001b[0m\u001b[0;34m[\u001b[0m\u001b[0;36m0\u001b[0m\u001b[0;34m]\u001b[0m\u001b[0;34m.\u001b[0m\u001b[0mtext\u001b[0m\u001b[0;34m.\u001b[0m\u001b[0mstrip\u001b[0m\u001b[0;34m(\u001b[0m\u001b[0;34m)\u001b[0m\u001b[0;34m\u001b[0m\u001b[0;34m\u001b[0m\u001b[0m\n\u001b[0m\u001b[1;32m     60\u001b[0m         \u001b[0mimage\u001b[0m \u001b[0;34m=\u001b[0m \u001b[0mbsObject\u001b[0m\u001b[0;34m.\u001b[0m\u001b[0mfind\u001b[0m\u001b[0;34m(\u001b[0m\u001b[0;34m'meta'\u001b[0m\u001b[0;34m,\u001b[0m \u001b[0;34m{\u001b[0m\u001b[0;34m'property'\u001b[0m\u001b[0;34m:\u001b[0m\u001b[0;34m'og:image'\u001b[0m\u001b[0;34m}\u001b[0m\u001b[0;34m)\u001b[0m\u001b[0;34m.\u001b[0m\u001b[0mget\u001b[0m\u001b[0;34m(\u001b[0m\u001b[0;34m'content'\u001b[0m\u001b[0;34m)\u001b[0m\u001b[0;34m\u001b[0m\u001b[0;34m\u001b[0m\u001b[0m\n",
            "\u001b[0;31mAttributeError\u001b[0m: 'NoneType' object has no attribute 'find_next_siblings'",
            "\nDuring handling of the above exception, another exception occurred:\n",
            "\u001b[0;31mAttributeError\u001b[0m                            Traceback (most recent call last)",
            "\u001b[0;32m<ipython-input-98-eddf4f8676db>\u001b[0m in \u001b[0;36m<module>\u001b[0;34m()\u001b[0m\n\u001b[1;32m     75\u001b[0m \u001b[0;34m\u001b[0m\u001b[0m\n\u001b[1;32m     76\u001b[0m     \u001b[0mtitle\u001b[0m \u001b[0;34m=\u001b[0m \u001b[0mbsObject\u001b[0m\u001b[0;34m.\u001b[0m\u001b[0mfind\u001b[0m\u001b[0;34m(\u001b[0m\u001b[0;34m'meta'\u001b[0m\u001b[0;34m,\u001b[0m \u001b[0;34m{\u001b[0m\u001b[0;34m'property'\u001b[0m\u001b[0;34m:\u001b[0m\u001b[0;34m'og:title'\u001b[0m\u001b[0;34m}\u001b[0m\u001b[0;34m)\u001b[0m\u001b[0;34m.\u001b[0m\u001b[0mget\u001b[0m\u001b[0;34m(\u001b[0m\u001b[0;34m'content'\u001b[0m\u001b[0;34m)\u001b[0m\u001b[0;34m\u001b[0m\u001b[0;34m\u001b[0m\u001b[0m\n\u001b[0;32m---> 77\u001b[0;31m     \u001b[0mauthor\u001b[0m \u001b[0;34m=\u001b[0m \u001b[0mbsObject\u001b[0m\u001b[0;34m.\u001b[0m\u001b[0mfind\u001b[0m\u001b[0;34m(\u001b[0m\u001b[0;34m'dt'\u001b[0m\u001b[0;34m,\u001b[0m \u001b[0mtext\u001b[0m \u001b[0;34m=\u001b[0m \u001b[0;34m\"저자\"\u001b[0m\u001b[0;34m)\u001b[0m\u001b[0;34m.\u001b[0m\u001b[0mfind_next_siblings\u001b[0m\u001b[0;34m(\u001b[0m\u001b[0;34m'dd'\u001b[0m\u001b[0;34m)\u001b[0m\u001b[0;34m[\u001b[0m\u001b[0;36m0\u001b[0m\u001b[0;34m]\u001b[0m\u001b[0;34m.\u001b[0m\u001b[0mtext\u001b[0m\u001b[0;34m.\u001b[0m\u001b[0mstrip\u001b[0m\u001b[0;34m(\u001b[0m\u001b[0;34m)\u001b[0m\u001b[0;34m\u001b[0m\u001b[0;34m\u001b[0m\u001b[0m\n\u001b[0m\u001b[1;32m     78\u001b[0m     \u001b[0mimage\u001b[0m \u001b[0;34m=\u001b[0m \u001b[0mbsObject\u001b[0m\u001b[0;34m.\u001b[0m\u001b[0mfind\u001b[0m\u001b[0;34m(\u001b[0m\u001b[0;34m'meta'\u001b[0m\u001b[0;34m,\u001b[0m \u001b[0;34m{\u001b[0m\u001b[0;34m'property'\u001b[0m\u001b[0;34m:\u001b[0m\u001b[0;34m'og:image'\u001b[0m\u001b[0;34m}\u001b[0m\u001b[0;34m)\u001b[0m\u001b[0;34m.\u001b[0m\u001b[0mget\u001b[0m\u001b[0;34m(\u001b[0m\u001b[0;34m'content'\u001b[0m\u001b[0;34m)\u001b[0m\u001b[0;34m\u001b[0m\u001b[0;34m\u001b[0m\u001b[0m\n\u001b[1;32m     79\u001b[0m     \u001b[0murl\u001b[0m \u001b[0;34m=\u001b[0m \u001b[0mbsObject\u001b[0m\u001b[0;34m.\u001b[0m\u001b[0mfind\u001b[0m\u001b[0;34m(\u001b[0m\u001b[0;34m'meta'\u001b[0m\u001b[0;34m,\u001b[0m \u001b[0;34m{\u001b[0m\u001b[0;34m'property'\u001b[0m\u001b[0;34m:\u001b[0m\u001b[0;34m'og:url'\u001b[0m\u001b[0;34m}\u001b[0m\u001b[0;34m)\u001b[0m\u001b[0;34m.\u001b[0m\u001b[0mget\u001b[0m\u001b[0;34m(\u001b[0m\u001b[0;34m'content'\u001b[0m\u001b[0;34m)\u001b[0m\u001b[0;34m\u001b[0m\u001b[0;34m\u001b[0m\u001b[0m\n",
            "\u001b[0;31mAttributeError\u001b[0m: 'NoneType' object has no attribute 'find_next_siblings'"
          ]
        }
      ]
    },
    {
      "cell_type": "code",
      "source": [
        "!pip install lzstring"
      ],
      "metadata": {
        "colab": {
          "base_uri": "https://localhost:8080/"
        },
        "id": "P6JpSRQdBhD9",
        "outputId": "a605ef43-f347-454a-8cf5-d2020e02df98"
      },
      "execution_count": 100,
      "outputs": [
        {
          "output_type": "stream",
          "name": "stdout",
          "text": [
            "Looking in indexes: https://pypi.org/simple, https://us-python.pkg.dev/colab-wheels/public/simple/\n",
            "Collecting lzstring\n",
            "  Downloading lzstring-1.0.4.tar.gz (4.3 kB)\n",
            "Requirement already satisfied: future>=0.14.0 in /usr/local/lib/python3.7/dist-packages (from lzstring) (0.16.0)\n",
            "Building wheels for collected packages: lzstring\n",
            "  Building wheel for lzstring (setup.py) ... \u001b[?25l\u001b[?25hdone\n",
            "  Created wheel for lzstring: filename=lzstring-1.0.4-py2.py3-none-any.whl size=4590 sha256=74585bf6781bef5a9bc9b4f89f8607718f3342a94541e991e4afc3da4d6b2ff7\n",
            "  Stored in directory: /root/.cache/pip/wheels/f1/e0/9f/2d1e57842b9e3a9f030519f6ea5e55a21ba7d4f5bcbb4ef578\n",
            "Successfully built lzstring\n",
            "Installing collected packages: lzstring\n",
            "Successfully installed lzstring-1.0.4\n"
          ]
        }
      ]
    },
    {
      "cell_type": "code",
      "source": [
        "import re\n",
        "import uuid\n",
        "import requests\n",
        "import rsa\n",
        "import lzstring\n",
        "from urllib3.util.retry import Retry\n",
        "from requests.adapters import HTTPAdapter\n",
        "\n",
        "\n",
        "def encrypt(key_str, uid, upw):\n",
        "    def naver_style_join(l):\n",
        "        return ''.join([chr(len(s)) + s for s in l])\n",
        "\n",
        "    sessionkey, keyname, e_str, n_str = key_str.split(',')\n",
        "    e, n = int(e_str, 16), int(n_str, 16)\n",
        "\n",
        "    message = naver_style_join([sessionkey, uid, upw]).encode()\n",
        "\n",
        "    pubkey = rsa.PublicKey(e, n)\n",
        "    encrypted = rsa.encrypt(message, pubkey)\n",
        "\n",
        "    return keyname, encrypted.hex()\n",
        "\n",
        "\n",
        "def encrypt_account(uid, upw):\n",
        "    key_str = requests.get('https://nid.naver.com/login/ext/keys.nhn').content.decode(\"utf-8\")\n",
        "    return encrypt(key_str, uid, upw)\n",
        "\n",
        "\n",
        "def naver_session(nid, npw):\n",
        "    encnm, encpw = encrypt_account(nid, npw)\n",
        "\n",
        "    s = requests.Session()\n",
        "    retries = Retry(\n",
        "        total=5,\n",
        "        backoff_factor=0.1,\n",
        "        status_forcelist=[500, 502, 503, 504]\n",
        "    )\n",
        "    s.mount('https://', HTTPAdapter(max_retries=retries))\n",
        "    request_headers = {\n",
        "        'User-agent': 'Mozilla/5.0'\n",
        "    }\n",
        "\n",
        "    bvsd_uuid = uuid.uuid4()\n",
        "    encData = '{\"a\":\"%s-4\",\"b\":\"1.3.4\",\"d\":[{\"i\":\"id\",\"b\":{\"a\":[\"0,%s\"]},\"d\":\"%s\",\"e\":false,\"f\":false},{\"i\":\"%s\",\"e\":true,\"f\":false}],\"h\":\"1f\",\"i\":{\"a\":\"Mozilla/5.0\"}}' % (bvsd_uuid, nid, nid, npw)\n",
        "    bvsd = '{\"uuid\":\"%s\",\"encData\":\"%s\"}' % (bvsd_uuid, lzstring.LZString.compressToEncodedURIComponent(encData))\n",
        "\n",
        "    resp = s.post('https://nid.naver.com/nidlogin.login', data={\n",
        "        'svctype': '0',\n",
        "        'enctp': '1',\n",
        "        'encnm': encnm,\n",
        "        'enc_url': 'http0X0.0000000000001P-10220.0000000.000000www.naver.com',\n",
        "        'url': 'www.naver.com',\n",
        "        'smart_level': '1',\n",
        "        'encpw': encpw,\n",
        "        'bvsd': bvsd\n",
        "    }, headers=request_headers)\n",
        "\n",
        "    finalize_url = re.search(r'location\\.replace\\(\"([^\"]+)\"\\)', resp.content.decode(\"utf-8\")).group(1)\n",
        "    s.get(finalize_url)\n",
        "\n",
        "    return s\n",
        "\n",
        "\n",
        "\n",
        "if __name__ == \"__main__\":\n",
        "    s = naver_session('limhyuk01', 'ejlove0418')\n",
        "    print(1)\n",
        "    pp = s.get('https://book.naver.com/bestsell/bestseller_list.naver')\n",
        "    print(pp)"
      ],
      "metadata": {
        "colab": {
          "base_uri": "https://localhost:8080/",
          "height": 369
        },
        "id": "TvgR7aRRAC1H",
        "outputId": "a41c4a77-ef37-4a66-e9ff-036d4dce6e87"
      },
      "execution_count": 101,
      "outputs": [
        {
          "output_type": "error",
          "ename": "AttributeError",
          "evalue": "ignored",
          "traceback": [
            "\u001b[0;31m---------------------------------------------------------------------------\u001b[0m",
            "\u001b[0;31mAttributeError\u001b[0m                            Traceback (most recent call last)",
            "\u001b[0;32m<ipython-input-101-5afd8b17897e>\u001b[0m in \u001b[0;36m<module>\u001b[0;34m()\u001b[0m\n\u001b[1;32m     65\u001b[0m \u001b[0;34m\u001b[0m\u001b[0m\n\u001b[1;32m     66\u001b[0m \u001b[0;32mif\u001b[0m \u001b[0m__name__\u001b[0m \u001b[0;34m==\u001b[0m \u001b[0;34m\"__main__\"\u001b[0m\u001b[0;34m:\u001b[0m\u001b[0;34m\u001b[0m\u001b[0;34m\u001b[0m\u001b[0m\n\u001b[0;32m---> 67\u001b[0;31m     \u001b[0ms\u001b[0m \u001b[0;34m=\u001b[0m \u001b[0mnaver_session\u001b[0m\u001b[0;34m(\u001b[0m\u001b[0;34m'limhyuk01'\u001b[0m\u001b[0;34m,\u001b[0m \u001b[0;34m'ejlove0418'\u001b[0m\u001b[0;34m)\u001b[0m\u001b[0;34m\u001b[0m\u001b[0;34m\u001b[0m\u001b[0m\n\u001b[0m\u001b[1;32m     68\u001b[0m     \u001b[0mprint\u001b[0m\u001b[0;34m(\u001b[0m\u001b[0;36m1\u001b[0m\u001b[0;34m)\u001b[0m\u001b[0;34m\u001b[0m\u001b[0;34m\u001b[0m\u001b[0m\n\u001b[1;32m     69\u001b[0m     \u001b[0mpp\u001b[0m \u001b[0;34m=\u001b[0m \u001b[0ms\u001b[0m\u001b[0;34m.\u001b[0m\u001b[0mget\u001b[0m\u001b[0;34m(\u001b[0m\u001b[0;34m'https://book.naver.com/bestsell/bestseller_list.naver'\u001b[0m\u001b[0;34m)\u001b[0m\u001b[0;34m\u001b[0m\u001b[0;34m\u001b[0m\u001b[0m\n",
            "\u001b[0;32m<ipython-input-101-5afd8b17897e>\u001b[0m in \u001b[0;36mnaver_session\u001b[0;34m(nid, npw)\u001b[0m\n\u001b[1;32m     57\u001b[0m     }, headers=request_headers)\n\u001b[1;32m     58\u001b[0m \u001b[0;34m\u001b[0m\u001b[0m\n\u001b[0;32m---> 59\u001b[0;31m     \u001b[0mfinalize_url\u001b[0m \u001b[0;34m=\u001b[0m \u001b[0mre\u001b[0m\u001b[0;34m.\u001b[0m\u001b[0msearch\u001b[0m\u001b[0;34m(\u001b[0m\u001b[0;34mr'location\\.replace\\(\"([^\"]+)\"\\)'\u001b[0m\u001b[0;34m,\u001b[0m \u001b[0mresp\u001b[0m\u001b[0;34m.\u001b[0m\u001b[0mcontent\u001b[0m\u001b[0;34m.\u001b[0m\u001b[0mdecode\u001b[0m\u001b[0;34m(\u001b[0m\u001b[0;34m\"utf-8\"\u001b[0m\u001b[0;34m)\u001b[0m\u001b[0;34m)\u001b[0m\u001b[0;34m.\u001b[0m\u001b[0mgroup\u001b[0m\u001b[0;34m(\u001b[0m\u001b[0;36m1\u001b[0m\u001b[0;34m)\u001b[0m\u001b[0;34m\u001b[0m\u001b[0;34m\u001b[0m\u001b[0m\n\u001b[0m\u001b[1;32m     60\u001b[0m     \u001b[0ms\u001b[0m\u001b[0;34m.\u001b[0m\u001b[0mget\u001b[0m\u001b[0;34m(\u001b[0m\u001b[0mfinalize_url\u001b[0m\u001b[0;34m)\u001b[0m\u001b[0;34m\u001b[0m\u001b[0;34m\u001b[0m\u001b[0m\n\u001b[1;32m     61\u001b[0m \u001b[0;34m\u001b[0m\u001b[0m\n",
            "\u001b[0;31mAttributeError\u001b[0m: 'NoneType' object has no attribute 'group'"
          ]
        }
      ]
    }
  ]
}